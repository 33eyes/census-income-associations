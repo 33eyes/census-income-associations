{
 "cells": [
  {
   "cell_type": "markdown",
   "id": "ff93f4e9-d786-40d9-877f-3cdc1651674e",
   "metadata": {},
   "source": [
    "# Models"
   ]
  },
  {
   "cell_type": "code",
   "execution_count": 1,
   "id": "f023a2bc-bb86-4d68-af88-3231919a8304",
   "metadata": {},
   "outputs": [],
   "source": [
    "import pandas as pd\n",
    "import numpy as np\n",
    "import math \n",
    "import pickle\n",
    "\n",
    "\n",
    "from sklearn import preprocessing\n",
    "from sklearn import metrics\n",
    "from sklearn.pipeline import make_pipeline\n",
    "from sklearn.linear_model import LogisticRegression\n",
    "from sklearn.ensemble import RandomForestClassifier\n",
    "from sklearn.model_selection import RandomizedSearchCV, train_test_split\n",
    "from sklearn.inspection import permutation_importance\n",
    "\n",
    "import statsmodels.api as sm\n",
    "\n",
    "from sklearn.tree import export_graphviz\n",
    "from IPython.display import Image\n",
    "import graphviz\n",
    "\n",
    "import plotly.express as px\n",
    "import plotly.graph_objects as go\n",
    "from IPython.display import display, HTML\n",
    "\n",
    "import matplotlib.pyplot as plt"
   ]
  },
  {
   "cell_type": "code",
   "execution_count": 2,
   "id": "18390940-c123-4622-9fbd-c6c325456a7c",
   "metadata": {},
   "outputs": [],
   "source": [
    "train_df = pd.read_pickle('preprocessed_X_train_df.pkl')\n",
    "test_df = pd.read_pickle('preprocessed_X_test_df.pkl')"
   ]
  },
  {
   "cell_type": "code",
   "execution_count": 3,
   "id": "04d63fd3-8fd9-46cb-949d-13d3c1a68846",
   "metadata": {},
   "outputs": [],
   "source": [
    "with open('y_train.pkl', 'rb') as f:\n",
    "    y_train = pickle.load(f)\n",
    "    \n",
    "with open('y_test.pkl', 'rb') as f:\n",
    "    y_test = pickle.load(f)"
   ]
  },
  {
   "cell_type": "code",
   "execution_count": 4,
   "id": "ceeeafd3-73f1-4fa3-abd7-f95b13b9acec",
   "metadata": {},
   "outputs": [],
   "source": [
    "X_train = train_df.to_numpy()"
   ]
  },
  {
   "cell_type": "code",
   "execution_count": 5,
   "id": "12b8468b-c0c5-480d-a4c9-0b2984c7bab1",
   "metadata": {},
   "outputs": [],
   "source": [
    "X_test = test_df.to_numpy()"
   ]
  },
  {
   "cell_type": "markdown",
   "id": "c305313b-5278-4b2b-8fe6-cddceacd494c",
   "metadata": {},
   "source": [
    "## Logistic regression"
   ]
  },
  {
   "cell_type": "code",
   "execution_count": 6,
   "id": "fe37ed47-8425-471f-8554-7c7a5cb889eb",
   "metadata": {},
   "outputs": [],
   "source": [
    "logreg_pipe = make_pipeline(\n",
    "    preprocessing.StandardScaler(), \n",
    "    LogisticRegression(random_state=1, max_iter=1000)\n",
    ")"
   ]
  },
  {
   "cell_type": "code",
   "execution_count": 7,
   "id": "9086a160-e552-4b00-926b-cd9bb3b250c4",
   "metadata": {},
   "outputs": [
    {
     "data": {
      "text/html": [
       "<style>#sk-container-id-1 {color: black;background-color: white;}#sk-container-id-1 pre{padding: 0;}#sk-container-id-1 div.sk-toggleable {background-color: white;}#sk-container-id-1 label.sk-toggleable__label {cursor: pointer;display: block;width: 100%;margin-bottom: 0;padding: 0.3em;box-sizing: border-box;text-align: center;}#sk-container-id-1 label.sk-toggleable__label-arrow:before {content: \"▸\";float: left;margin-right: 0.25em;color: #696969;}#sk-container-id-1 label.sk-toggleable__label-arrow:hover:before {color: black;}#sk-container-id-1 div.sk-estimator:hover label.sk-toggleable__label-arrow:before {color: black;}#sk-container-id-1 div.sk-toggleable__content {max-height: 0;max-width: 0;overflow: hidden;text-align: left;background-color: #f0f8ff;}#sk-container-id-1 div.sk-toggleable__content pre {margin: 0.2em;color: black;border-radius: 0.25em;background-color: #f0f8ff;}#sk-container-id-1 input.sk-toggleable__control:checked~div.sk-toggleable__content {max-height: 200px;max-width: 100%;overflow: auto;}#sk-container-id-1 input.sk-toggleable__control:checked~label.sk-toggleable__label-arrow:before {content: \"▾\";}#sk-container-id-1 div.sk-estimator input.sk-toggleable__control:checked~label.sk-toggleable__label {background-color: #d4ebff;}#sk-container-id-1 div.sk-label input.sk-toggleable__control:checked~label.sk-toggleable__label {background-color: #d4ebff;}#sk-container-id-1 input.sk-hidden--visually {border: 0;clip: rect(1px 1px 1px 1px);clip: rect(1px, 1px, 1px, 1px);height: 1px;margin: -1px;overflow: hidden;padding: 0;position: absolute;width: 1px;}#sk-container-id-1 div.sk-estimator {font-family: monospace;background-color: #f0f8ff;border: 1px dotted black;border-radius: 0.25em;box-sizing: border-box;margin-bottom: 0.5em;}#sk-container-id-1 div.sk-estimator:hover {background-color: #d4ebff;}#sk-container-id-1 div.sk-parallel-item::after {content: \"\";width: 100%;border-bottom: 1px solid gray;flex-grow: 1;}#sk-container-id-1 div.sk-label:hover label.sk-toggleable__label {background-color: #d4ebff;}#sk-container-id-1 div.sk-serial::before {content: \"\";position: absolute;border-left: 1px solid gray;box-sizing: border-box;top: 0;bottom: 0;left: 50%;z-index: 0;}#sk-container-id-1 div.sk-serial {display: flex;flex-direction: column;align-items: center;background-color: white;padding-right: 0.2em;padding-left: 0.2em;position: relative;}#sk-container-id-1 div.sk-item {position: relative;z-index: 1;}#sk-container-id-1 div.sk-parallel {display: flex;align-items: stretch;justify-content: center;background-color: white;position: relative;}#sk-container-id-1 div.sk-item::before, #sk-container-id-1 div.sk-parallel-item::before {content: \"\";position: absolute;border-left: 1px solid gray;box-sizing: border-box;top: 0;bottom: 0;left: 50%;z-index: -1;}#sk-container-id-1 div.sk-parallel-item {display: flex;flex-direction: column;z-index: 1;position: relative;background-color: white;}#sk-container-id-1 div.sk-parallel-item:first-child::after {align-self: flex-end;width: 50%;}#sk-container-id-1 div.sk-parallel-item:last-child::after {align-self: flex-start;width: 50%;}#sk-container-id-1 div.sk-parallel-item:only-child::after {width: 0;}#sk-container-id-1 div.sk-dashed-wrapped {border: 1px dashed gray;margin: 0 0.4em 0.5em 0.4em;box-sizing: border-box;padding-bottom: 0.4em;background-color: white;}#sk-container-id-1 div.sk-label label {font-family: monospace;font-weight: bold;display: inline-block;line-height: 1.2em;}#sk-container-id-1 div.sk-label-container {text-align: center;}#sk-container-id-1 div.sk-container {/* jupyter's `normalize.less` sets `[hidden] { display: none; }` but bootstrap.min.css set `[hidden] { display: none !important; }` so we also need the `!important` here to be able to override the default hidden behavior on the sphinx rendered scikit-learn.org. See: https://github.com/scikit-learn/scikit-learn/issues/21755 */display: inline-block !important;position: relative;}#sk-container-id-1 div.sk-text-repr-fallback {display: none;}</style><div id=\"sk-container-id-1\" class=\"sk-top-container\"><div class=\"sk-text-repr-fallback\"><pre>Pipeline(steps=[(&#x27;standardscaler&#x27;, StandardScaler()),\n",
       "                (&#x27;logisticregression&#x27;,\n",
       "                 LogisticRegression(max_iter=1000, random_state=1))])</pre><b>In a Jupyter environment, please rerun this cell to show the HTML representation or trust the notebook. <br />On GitHub, the HTML representation is unable to render, please try loading this page with nbviewer.org.</b></div><div class=\"sk-container\" hidden><div class=\"sk-item sk-dashed-wrapped\"><div class=\"sk-label-container\"><div class=\"sk-label sk-toggleable\"><input class=\"sk-toggleable__control sk-hidden--visually\" id=\"sk-estimator-id-1\" type=\"checkbox\" ><label for=\"sk-estimator-id-1\" class=\"sk-toggleable__label sk-toggleable__label-arrow\">Pipeline</label><div class=\"sk-toggleable__content\"><pre>Pipeline(steps=[(&#x27;standardscaler&#x27;, StandardScaler()),\n",
       "                (&#x27;logisticregression&#x27;,\n",
       "                 LogisticRegression(max_iter=1000, random_state=1))])</pre></div></div></div><div class=\"sk-serial\"><div class=\"sk-item\"><div class=\"sk-estimator sk-toggleable\"><input class=\"sk-toggleable__control sk-hidden--visually\" id=\"sk-estimator-id-2\" type=\"checkbox\" ><label for=\"sk-estimator-id-2\" class=\"sk-toggleable__label sk-toggleable__label-arrow\">StandardScaler</label><div class=\"sk-toggleable__content\"><pre>StandardScaler()</pre></div></div></div><div class=\"sk-item\"><div class=\"sk-estimator sk-toggleable\"><input class=\"sk-toggleable__control sk-hidden--visually\" id=\"sk-estimator-id-3\" type=\"checkbox\" ><label for=\"sk-estimator-id-3\" class=\"sk-toggleable__label sk-toggleable__label-arrow\">LogisticRegression</label><div class=\"sk-toggleable__content\"><pre>LogisticRegression(max_iter=1000, random_state=1)</pre></div></div></div></div></div></div></div>"
      ],
      "text/plain": [
       "Pipeline(steps=[('standardscaler', StandardScaler()),\n",
       "                ('logisticregression',\n",
       "                 LogisticRegression(max_iter=1000, random_state=1))])"
      ]
     },
     "execution_count": 7,
     "metadata": {},
     "output_type": "execute_result"
    }
   ],
   "source": [
    "logreg_pipe.fit(X_train, y_train)"
   ]
  },
  {
   "cell_type": "code",
   "execution_count": 8,
   "id": "6fef3c98-adbf-4a84-9252-0b1407aacaa8",
   "metadata": {},
   "outputs": [],
   "source": [
    "y_pred = logreg_pipe.predict(X_test)"
   ]
  },
  {
   "cell_type": "code",
   "execution_count": 9,
   "id": "f8023c4b-ad53-41de-ac8d-449952a048ca",
   "metadata": {},
   "outputs": [
    {
     "data": {
      "text/plain": [
       "array([[92679,   897],\n",
       "       [ 3759,  2427]])"
      ]
     },
     "execution_count": 9,
     "metadata": {},
     "output_type": "execute_result"
    }
   ],
   "source": [
    "logreg_confusion_matrix = metrics.confusion_matrix(y_test, y_pred)\n",
    "logreg_confusion_matrix"
   ]
  },
  {
   "cell_type": "code",
   "execution_count": 10,
   "id": "aaa9e277-82eb-4fc9-b747-5157d4cc2bda",
   "metadata": {},
   "outputs": [
    {
     "name": "stdout",
     "output_type": "stream",
     "text": [
      "              precision    recall  f1-score   support\n",
      "\n",
      "       < 50K       0.96      0.99      0.98     93576\n",
      "       > 50K       0.73      0.39      0.51      6186\n",
      "\n",
      "    accuracy                           0.95     99762\n",
      "   macro avg       0.85      0.69      0.74     99762\n",
      "weighted avg       0.95      0.95      0.95     99762\n",
      "\n"
     ]
    }
   ],
   "source": [
    "target_names = ['< 50K', '> 50K']\n",
    "print(metrics.classification_report(y_test, y_pred, target_names=target_names))"
   ]
  },
  {
   "cell_type": "code",
   "execution_count": 11,
   "id": "046cac27-983f-47cf-b522-a07c7e6371a4",
   "metadata": {},
   "outputs": [
    {
     "data": {
      "text/plain": [
       "0    187141\n",
       "1     12382\n",
       "dtype: int64"
      ]
     },
     "execution_count": 11,
     "metadata": {},
     "output_type": "execute_result"
    }
   ],
   "source": [
    "pd.DataFrame(y_train).value_counts()"
   ]
  },
  {
   "cell_type": "code",
   "execution_count": 12,
   "id": "d9ef9226-2415-4182-b24b-7b575a703870",
   "metadata": {},
   "outputs": [
    {
     "data": {
      "text/plain": [
       "0    93576\n",
       "1     6186\n",
       "dtype: int64"
      ]
     },
     "execution_count": 12,
     "metadata": {},
     "output_type": "execute_result"
    }
   ],
   "source": [
    "pd.DataFrame(y_test).value_counts()"
   ]
  },
  {
   "cell_type": "code",
   "execution_count": 13,
   "id": "de097e05-370a-44af-ab8c-987a0f4ea650",
   "metadata": {},
   "outputs": [
    {
     "data": {
      "text/plain": [
       "0.9533289228363505"
      ]
     },
     "execution_count": 13,
     "metadata": {},
     "output_type": "execute_result"
    }
   ],
   "source": [
    "# accuracy\n",
    "logreg_pipe.score(X_test, y_test)"
   ]
  },
  {
   "cell_type": "code",
   "execution_count": 15,
   "id": "77ea5c75-7593-47f8-b5ca-46b9bcdb0e72",
   "metadata": {},
   "outputs": [
    {
     "name": "stdout",
     "output_type": "stream",
     "text": [
      "0.73014440433213\n",
      "0.39233753637245394\n"
     ]
    }
   ],
   "source": [
    "precision = metrics.precision_score(y_test, y_pred)\n",
    "print(precision)\n",
    "recall = metrics.recall_score(y_test, y_pred)\n",
    "print(recall)"
   ]
  },
  {
   "cell_type": "code",
   "execution_count": 16,
   "id": "3254bf92-59e8-44b0-a01c-333c1a05d6b8",
   "metadata": {},
   "outputs": [],
   "source": [
    "importance = logreg_pipe.steps[1][1].coef_[0]"
   ]
  },
  {
   "cell_type": "code",
   "execution_count": 17,
   "id": "2b22d572-acea-4229-9bbc-520f3b11d04d",
   "metadata": {},
   "outputs": [
    {
     "data": {
      "text/plain": [
       "328"
      ]
     },
     "execution_count": 17,
     "metadata": {},
     "output_type": "execute_result"
    }
   ],
   "source": [
    "len(train_df.columns)"
   ]
  },
  {
   "cell_type": "code",
   "execution_count": 18,
   "id": "4050cda9-0bd9-4ed8-a087-4800ab7b55df",
   "metadata": {},
   "outputs": [
    {
     "data": {
      "text/plain": [
       "(328,)"
      ]
     },
     "execution_count": 18,
     "metadata": {},
     "output_type": "execute_result"
    }
   ],
   "source": [
    "importance.shape"
   ]
  },
  {
   "cell_type": "code",
   "execution_count": 19,
   "id": "9fc9ff08-5032-4cc0-bbd4-7953544750e3",
   "metadata": {},
   "outputs": [],
   "source": [
    "logreg_feature_importance = pd.DataFrame({\n",
    "    'feature': list(train_df.columns),\n",
    "    'coef': logreg_pipe.steps[1][1].coef_[0]\n",
    "})"
   ]
  },
  {
   "cell_type": "code",
   "execution_count": 20,
   "id": "4cbf1db3-c4a4-4879-b7be-2dfa4d8305d3",
   "metadata": {},
   "outputs": [],
   "source": [
    "logreg_feature_importance['importance'] = \\\n",
    "    logreg_feature_importance['coef'].apply(abs)"
   ]
  },
  {
   "cell_type": "code",
   "execution_count": 21,
   "id": "82c1d114-bf12-4c80-b5a8-bdd404ed0b2a",
   "metadata": {},
   "outputs": [],
   "source": [
    "logreg_feature_importance.sort_values('importance', ascending=False, inplace=True)"
   ]
  },
  {
   "cell_type": "code",
   "execution_count": 22,
   "id": "ed1637e9-9675-4cb4-ba61-51d1a17e8584",
   "metadata": {},
   "outputs": [
    {
     "data": {
      "text/html": [
       "<div>\n",
       "<style scoped>\n",
       "    .dataframe tbody tr th:only-of-type {\n",
       "        vertical-align: middle;\n",
       "    }\n",
       "\n",
       "    .dataframe tbody tr th {\n",
       "        vertical-align: top;\n",
       "    }\n",
       "\n",
       "    .dataframe thead th {\n",
       "        text-align: right;\n",
       "    }\n",
       "</style>\n",
       "<table border=\"1\" class=\"dataframe\">\n",
       "  <thead>\n",
       "    <tr style=\"text-align: right;\">\n",
       "      <th></th>\n",
       "      <th>feature</th>\n",
       "      <th>coef</th>\n",
       "      <th>importance</th>\n",
       "    </tr>\n",
       "  </thead>\n",
       "  <tbody>\n",
       "    <tr>\n",
       "      <th>6</th>\n",
       "      <td>weeks worked in year</td>\n",
       "      <td>0.920933</td>\n",
       "      <td>0.920933</td>\n",
       "    </tr>\n",
       "    <tr>\n",
       "      <th>0</th>\n",
       "      <td>age</td>\n",
       "      <td>0.712776</td>\n",
       "      <td>0.712776</td>\n",
       "    </tr>\n",
       "    <tr>\n",
       "      <th>31</th>\n",
       "      <td>tax filer stat:  Nonfiler</td>\n",
       "      <td>-0.556518</td>\n",
       "      <td>0.556518</td>\n",
       "    </tr>\n",
       "    <tr>\n",
       "      <th>2</th>\n",
       "      <td>capital gains</td>\n",
       "      <td>0.458455</td>\n",
       "      <td>0.458455</td>\n",
       "    </tr>\n",
       "    <tr>\n",
       "      <th>29</th>\n",
       "      <td>tax filer stat:  Joint both under 65</td>\n",
       "      <td>0.426756</td>\n",
       "      <td>0.426756</td>\n",
       "    </tr>\n",
       "    <tr>\n",
       "      <th>22</th>\n",
       "      <td>family members under 18:  Mother only present</td>\n",
       "      <td>-0.410083</td>\n",
       "      <td>0.410083</td>\n",
       "    </tr>\n",
       "    <tr>\n",
       "      <th>5</th>\n",
       "      <td>num persons worked for employer</td>\n",
       "      <td>0.387511</td>\n",
       "      <td>0.387511</td>\n",
       "    </tr>\n",
       "    <tr>\n",
       "      <th>4</th>\n",
       "      <td>dividends from stocks</td>\n",
       "      <td>0.354668</td>\n",
       "      <td>0.354668</td>\n",
       "    </tr>\n",
       "    <tr>\n",
       "      <th>10</th>\n",
       "      <td>education: Children</td>\n",
       "      <td>-0.342963</td>\n",
       "      <td>0.342963</td>\n",
       "    </tr>\n",
       "    <tr>\n",
       "      <th>227</th>\n",
       "      <td>veterans benefits: 0</td>\n",
       "      <td>-0.339873</td>\n",
       "      <td>0.339873</td>\n",
       "    </tr>\n",
       "  </tbody>\n",
       "</table>\n",
       "</div>"
      ],
      "text/plain": [
       "                                           feature      coef  importance\n",
       "6                             weeks worked in year  0.920933    0.920933\n",
       "0                                              age  0.712776    0.712776\n",
       "31                       tax filer stat:  Nonfiler -0.556518    0.556518\n",
       "2                                    capital gains  0.458455    0.458455\n",
       "29            tax filer stat:  Joint both under 65  0.426756    0.426756\n",
       "22   family members under 18:  Mother only present -0.410083    0.410083\n",
       "5                  num persons worked for employer  0.387511    0.387511\n",
       "4                            dividends from stocks  0.354668    0.354668\n",
       "10                             education: Children -0.342963    0.342963\n",
       "227                           veterans benefits: 0 -0.339873    0.339873"
      ]
     },
     "execution_count": 22,
     "metadata": {},
     "output_type": "execute_result"
    }
   ],
   "source": [
    "logreg_feature_importance.head(10)"
   ]
  },
  {
   "cell_type": "code",
   "execution_count": 23,
   "id": "7a679b41-c32d-43e1-99a5-33532f8a9645",
   "metadata": {},
   "outputs": [
    {
     "data": {
      "text/html": [
       "<div>\n",
       "<style scoped>\n",
       "    .dataframe tbody tr th:only-of-type {\n",
       "        vertical-align: middle;\n",
       "    }\n",
       "\n",
       "    .dataframe tbody tr th {\n",
       "        vertical-align: top;\n",
       "    }\n",
       "\n",
       "    .dataframe thead th {\n",
       "        text-align: right;\n",
       "    }\n",
       "</style>\n",
       "<table border=\"1\" class=\"dataframe\">\n",
       "  <thead>\n",
       "    <tr style=\"text-align: right;\">\n",
       "      <th></th>\n",
       "      <th>feature</th>\n",
       "      <th>coef</th>\n",
       "      <th>importance</th>\n",
       "    </tr>\n",
       "  </thead>\n",
       "  <tbody>\n",
       "    <tr>\n",
       "      <th>192</th>\n",
       "      <td>detailed industry recode: 27</td>\n",
       "      <td>-0.000691</td>\n",
       "      <td>0.000691</td>\n",
       "    </tr>\n",
       "    <tr>\n",
       "      <th>298</th>\n",
       "      <td>state of previous residence:  Wyoming</td>\n",
       "      <td>-0.000502</td>\n",
       "      <td>0.000502</td>\n",
       "    </tr>\n",
       "    <tr>\n",
       "      <th>107</th>\n",
       "      <td>detailed occupation recode: 3</td>\n",
       "      <td>0.000246</td>\n",
       "      <td>0.000246</td>\n",
       "    </tr>\n",
       "    <tr>\n",
       "      <th>296</th>\n",
       "      <td>state of previous residence:  West Virginia</td>\n",
       "      <td>0.000242</td>\n",
       "      <td>0.000242</td>\n",
       "    </tr>\n",
       "    <tr>\n",
       "      <th>201</th>\n",
       "      <td>detailed industry recode: 35</td>\n",
       "      <td>0.000208</td>\n",
       "      <td>0.000208</td>\n",
       "    </tr>\n",
       "    <tr>\n",
       "      <th>47</th>\n",
       "      <td>migration code-change in reg:  Different divis...</td>\n",
       "      <td>0.000169</td>\n",
       "      <td>0.000169</td>\n",
       "    </tr>\n",
       "    <tr>\n",
       "      <th>136</th>\n",
       "      <td>region of previous residence:  Not in universe</td>\n",
       "      <td>-0.000127</td>\n",
       "      <td>0.000127</td>\n",
       "    </tr>\n",
       "    <tr>\n",
       "      <th>284</th>\n",
       "      <td>state of previous residence:  Not in universe</td>\n",
       "      <td>-0.000127</td>\n",
       "      <td>0.000127</td>\n",
       "    </tr>\n",
       "    <tr>\n",
       "      <th>224</th>\n",
       "      <td>live in this house 1 year ago:  No</td>\n",
       "      <td>0.000127</td>\n",
       "      <td>0.000127</td>\n",
       "    </tr>\n",
       "    <tr>\n",
       "      <th>89</th>\n",
       "      <td>detailed occupation recode: 13</td>\n",
       "      <td>-0.000108</td>\n",
       "      <td>0.000108</td>\n",
       "    </tr>\n",
       "  </tbody>\n",
       "</table>\n",
       "</div>"
      ],
      "text/plain": [
       "                                               feature      coef  importance\n",
       "192                       detailed industry recode: 27 -0.000691    0.000691\n",
       "298              state of previous residence:  Wyoming -0.000502    0.000502\n",
       "107                      detailed occupation recode: 3  0.000246    0.000246\n",
       "296        state of previous residence:  West Virginia  0.000242    0.000242\n",
       "201                       detailed industry recode: 35  0.000208    0.000208\n",
       "47   migration code-change in reg:  Different divis...  0.000169    0.000169\n",
       "136     region of previous residence:  Not in universe -0.000127    0.000127\n",
       "284      state of previous residence:  Not in universe -0.000127    0.000127\n",
       "224                 live in this house 1 year ago:  No  0.000127    0.000127\n",
       "89                      detailed occupation recode: 13 -0.000108    0.000108"
      ]
     },
     "execution_count": 23,
     "metadata": {},
     "output_type": "execute_result"
    }
   ],
   "source": [
    "logreg_feature_importance.tail(10)"
   ]
  },
  {
   "cell_type": "code",
   "execution_count": 24,
   "id": "b4d727d1-cd4f-4477-9414-e50f702de2ba",
   "metadata": {},
   "outputs": [
    {
     "data": {
      "text/html": [
       "<div>\n",
       "<style scoped>\n",
       "    .dataframe tbody tr th:only-of-type {\n",
       "        vertical-align: middle;\n",
       "    }\n",
       "\n",
       "    .dataframe tbody tr th {\n",
       "        vertical-align: top;\n",
       "    }\n",
       "\n",
       "    .dataframe thead th {\n",
       "        text-align: right;\n",
       "    }\n",
       "</style>\n",
       "<table border=\"1\" class=\"dataframe\">\n",
       "  <thead>\n",
       "    <tr style=\"text-align: right;\">\n",
       "      <th></th>\n",
       "      <th>feature</th>\n",
       "      <th>coef</th>\n",
       "      <th>importance</th>\n",
       "    </tr>\n",
       "  </thead>\n",
       "  <tbody>\n",
       "    <tr>\n",
       "      <th>6</th>\n",
       "      <td>weeks worked in year</td>\n",
       "      <td>0.920933</td>\n",
       "      <td>0.920933</td>\n",
       "    </tr>\n",
       "    <tr>\n",
       "      <th>0</th>\n",
       "      <td>age</td>\n",
       "      <td>0.712776</td>\n",
       "      <td>0.712776</td>\n",
       "    </tr>\n",
       "    <tr>\n",
       "      <th>2</th>\n",
       "      <td>capital gains</td>\n",
       "      <td>0.458455</td>\n",
       "      <td>0.458455</td>\n",
       "    </tr>\n",
       "    <tr>\n",
       "      <th>29</th>\n",
       "      <td>tax filer stat:  Joint both under 65</td>\n",
       "      <td>0.426756</td>\n",
       "      <td>0.426756</td>\n",
       "    </tr>\n",
       "    <tr>\n",
       "      <th>5</th>\n",
       "      <td>num persons worked for employer</td>\n",
       "      <td>0.387511</td>\n",
       "      <td>0.387511</td>\n",
       "    </tr>\n",
       "    <tr>\n",
       "      <th>4</th>\n",
       "      <td>dividends from stocks</td>\n",
       "      <td>0.354668</td>\n",
       "      <td>0.354668</td>\n",
       "    </tr>\n",
       "    <tr>\n",
       "      <th>9</th>\n",
       "      <td>education: Bachelors degree</td>\n",
       "      <td>0.328033</td>\n",
       "      <td>0.328033</td>\n",
       "    </tr>\n",
       "    <tr>\n",
       "      <th>229</th>\n",
       "      <td>veterans benefits: 2</td>\n",
       "      <td>0.308381</td>\n",
       "      <td>0.308381</td>\n",
       "    </tr>\n",
       "    <tr>\n",
       "      <th>15</th>\n",
       "      <td>education: Masters degree</td>\n",
       "      <td>0.296795</td>\n",
       "      <td>0.296795</td>\n",
       "    </tr>\n",
       "    <tr>\n",
       "      <th>24</th>\n",
       "      <td>family members under 18:  Not in universe</td>\n",
       "      <td>0.296072</td>\n",
       "      <td>0.296072</td>\n",
       "    </tr>\n",
       "  </tbody>\n",
       "</table>\n",
       "</div>"
      ],
      "text/plain": [
       "                                       feature      coef  importance\n",
       "6                         weeks worked in year  0.920933    0.920933\n",
       "0                                          age  0.712776    0.712776\n",
       "2                                capital gains  0.458455    0.458455\n",
       "29        tax filer stat:  Joint both under 65  0.426756    0.426756\n",
       "5              num persons worked for employer  0.387511    0.387511\n",
       "4                        dividends from stocks  0.354668    0.354668\n",
       "9                  education: Bachelors degree  0.328033    0.328033\n",
       "229                       veterans benefits: 2  0.308381    0.308381\n",
       "15                   education: Masters degree  0.296795    0.296795\n",
       "24   family members under 18:  Not in universe  0.296072    0.296072"
      ]
     },
     "execution_count": 24,
     "metadata": {},
     "output_type": "execute_result"
    }
   ],
   "source": [
    "logreg_feature_importance[logreg_feature_importance['coef'] > 0].head(10)"
   ]
  },
  {
   "cell_type": "code",
   "execution_count": 25,
   "id": "b1f07965-3ce0-45af-afbd-6745b6343307",
   "metadata": {},
   "outputs": [
    {
     "data": {
      "text/html": [
       "<div>\n",
       "<style scoped>\n",
       "    .dataframe tbody tr th:only-of-type {\n",
       "        vertical-align: middle;\n",
       "    }\n",
       "\n",
       "    .dataframe tbody tr th {\n",
       "        vertical-align: top;\n",
       "    }\n",
       "\n",
       "    .dataframe thead th {\n",
       "        text-align: right;\n",
       "    }\n",
       "</style>\n",
       "<table border=\"1\" class=\"dataframe\">\n",
       "  <thead>\n",
       "    <tr style=\"text-align: right;\">\n",
       "      <th></th>\n",
       "      <th>feature</th>\n",
       "      <th>coef</th>\n",
       "      <th>importance</th>\n",
       "    </tr>\n",
       "  </thead>\n",
       "  <tbody>\n",
       "    <tr>\n",
       "      <th>111</th>\n",
       "      <td>detailed occupation recode: 33</td>\n",
       "      <td>0.001438</td>\n",
       "      <td>0.001438</td>\n",
       "    </tr>\n",
       "    <tr>\n",
       "      <th>108</th>\n",
       "      <td>detailed occupation recode: 30</td>\n",
       "      <td>0.001327</td>\n",
       "      <td>0.001327</td>\n",
       "    </tr>\n",
       "    <tr>\n",
       "      <th>168</th>\n",
       "      <td>member of a labor union:  Not in universe</td>\n",
       "      <td>0.001320</td>\n",
       "      <td>0.001320</td>\n",
       "    </tr>\n",
       "    <tr>\n",
       "      <th>85</th>\n",
       "      <td>detailed occupation recode: 1</td>\n",
       "      <td>0.001033</td>\n",
       "      <td>0.001033</td>\n",
       "    </tr>\n",
       "    <tr>\n",
       "      <th>189</th>\n",
       "      <td>detailed industry recode: 24</td>\n",
       "      <td>0.000871</td>\n",
       "      <td>0.000871</td>\n",
       "    </tr>\n",
       "    <tr>\n",
       "      <th>107</th>\n",
       "      <td>detailed occupation recode: 3</td>\n",
       "      <td>0.000246</td>\n",
       "      <td>0.000246</td>\n",
       "    </tr>\n",
       "    <tr>\n",
       "      <th>296</th>\n",
       "      <td>state of previous residence:  West Virginia</td>\n",
       "      <td>0.000242</td>\n",
       "      <td>0.000242</td>\n",
       "    </tr>\n",
       "    <tr>\n",
       "      <th>201</th>\n",
       "      <td>detailed industry recode: 35</td>\n",
       "      <td>0.000208</td>\n",
       "      <td>0.000208</td>\n",
       "    </tr>\n",
       "    <tr>\n",
       "      <th>47</th>\n",
       "      <td>migration code-change in reg:  Different divis...</td>\n",
       "      <td>0.000169</td>\n",
       "      <td>0.000169</td>\n",
       "    </tr>\n",
       "    <tr>\n",
       "      <th>224</th>\n",
       "      <td>live in this house 1 year ago:  No</td>\n",
       "      <td>0.000127</td>\n",
       "      <td>0.000127</td>\n",
       "    </tr>\n",
       "  </tbody>\n",
       "</table>\n",
       "</div>"
      ],
      "text/plain": [
       "                                               feature      coef  importance\n",
       "111                     detailed occupation recode: 33  0.001438    0.001438\n",
       "108                     detailed occupation recode: 30  0.001327    0.001327\n",
       "168          member of a labor union:  Not in universe  0.001320    0.001320\n",
       "85                       detailed occupation recode: 1  0.001033    0.001033\n",
       "189                       detailed industry recode: 24  0.000871    0.000871\n",
       "107                      detailed occupation recode: 3  0.000246    0.000246\n",
       "296        state of previous residence:  West Virginia  0.000242    0.000242\n",
       "201                       detailed industry recode: 35  0.000208    0.000208\n",
       "47   migration code-change in reg:  Different divis...  0.000169    0.000169\n",
       "224                 live in this house 1 year ago:  No  0.000127    0.000127"
      ]
     },
     "execution_count": 25,
     "metadata": {},
     "output_type": "execute_result"
    }
   ],
   "source": [
    "logreg_feature_importance[logreg_feature_importance['coef'] > 0].tail(10)"
   ]
  },
  {
   "cell_type": "code",
   "execution_count": 26,
   "id": "6e4b5a67-c5f5-4467-b6d1-04ca53039046",
   "metadata": {},
   "outputs": [
    {
     "data": {
      "text/html": [
       "<div>\n",
       "<style scoped>\n",
       "    .dataframe tbody tr th:only-of-type {\n",
       "        vertical-align: middle;\n",
       "    }\n",
       "\n",
       "    .dataframe tbody tr th {\n",
       "        vertical-align: top;\n",
       "    }\n",
       "\n",
       "    .dataframe thead th {\n",
       "        text-align: right;\n",
       "    }\n",
       "</style>\n",
       "<table border=\"1\" class=\"dataframe\">\n",
       "  <thead>\n",
       "    <tr style=\"text-align: right;\">\n",
       "      <th></th>\n",
       "      <th>feature</th>\n",
       "      <th>coef</th>\n",
       "      <th>importance</th>\n",
       "    </tr>\n",
       "  </thead>\n",
       "  <tbody>\n",
       "    <tr>\n",
       "      <th>31</th>\n",
       "      <td>tax filer stat:  Nonfiler</td>\n",
       "      <td>-0.556518</td>\n",
       "      <td>0.556518</td>\n",
       "    </tr>\n",
       "    <tr>\n",
       "      <th>22</th>\n",
       "      <td>family members under 18:  Mother only present</td>\n",
       "      <td>-0.410083</td>\n",
       "      <td>0.410083</td>\n",
       "    </tr>\n",
       "    <tr>\n",
       "      <th>10</th>\n",
       "      <td>education: Children</td>\n",
       "      <td>-0.342963</td>\n",
       "      <td>0.342963</td>\n",
       "    </tr>\n",
       "    <tr>\n",
       "      <th>227</th>\n",
       "      <td>veterans benefits: 0</td>\n",
       "      <td>-0.339873</td>\n",
       "      <td>0.339873</td>\n",
       "    </tr>\n",
       "    <tr>\n",
       "      <th>233</th>\n",
       "      <td>full or part time employment stat:  Children o...</td>\n",
       "      <td>-0.274521</td>\n",
       "      <td>0.274521</td>\n",
       "    </tr>\n",
       "    <tr>\n",
       "      <th>131</th>\n",
       "      <td>sex:  Female</td>\n",
       "      <td>-0.274380</td>\n",
       "      <td>0.274380</td>\n",
       "    </tr>\n",
       "    <tr>\n",
       "      <th>322</th>\n",
       "      <td>detailed household summary in household:  Chil...</td>\n",
       "      <td>-0.251760</td>\n",
       "      <td>0.251760</td>\n",
       "    </tr>\n",
       "    <tr>\n",
       "      <th>23</th>\n",
       "      <td>family members under 18:  Neither parent present</td>\n",
       "      <td>-0.181731</td>\n",
       "      <td>0.181731</td>\n",
       "    </tr>\n",
       "    <tr>\n",
       "      <th>320</th>\n",
       "      <td>detailed household summary in household:  Chil...</td>\n",
       "      <td>-0.176492</td>\n",
       "      <td>0.176492</td>\n",
       "    </tr>\n",
       "    <tr>\n",
       "      <th>21</th>\n",
       "      <td>family members under 18:  Father only present</td>\n",
       "      <td>-0.171975</td>\n",
       "      <td>0.171975</td>\n",
       "    </tr>\n",
       "  </tbody>\n",
       "</table>\n",
       "</div>"
      ],
      "text/plain": [
       "                                               feature      coef  importance\n",
       "31                           tax filer stat:  Nonfiler -0.556518    0.556518\n",
       "22       family members under 18:  Mother only present -0.410083    0.410083\n",
       "10                                 education: Children -0.342963    0.342963\n",
       "227                               veterans benefits: 0 -0.339873    0.339873\n",
       "233  full or part time employment stat:  Children o... -0.274521    0.274521\n",
       "131                                       sex:  Female -0.274380    0.274380\n",
       "322  detailed household summary in household:  Chil... -0.251760    0.251760\n",
       "23    family members under 18:  Neither parent present -0.181731    0.181731\n",
       "320  detailed household summary in household:  Chil... -0.176492    0.176492\n",
       "21       family members under 18:  Father only present -0.171975    0.171975"
      ]
     },
     "execution_count": 26,
     "metadata": {},
     "output_type": "execute_result"
    }
   ],
   "source": [
    "logreg_feature_importance[logreg_feature_importance['coef'] < 0].head(10)"
   ]
  },
  {
   "cell_type": "code",
   "execution_count": 27,
   "id": "5eb17525-69ae-45a6-897e-adb0b4af4473",
   "metadata": {},
   "outputs": [
    {
     "data": {
      "text/html": [
       "<div>\n",
       "<style scoped>\n",
       "    .dataframe tbody tr th:only-of-type {\n",
       "        vertical-align: middle;\n",
       "    }\n",
       "\n",
       "    .dataframe tbody tr th {\n",
       "        vertical-align: top;\n",
       "    }\n",
       "\n",
       "    .dataframe thead th {\n",
       "        text-align: right;\n",
       "    }\n",
       "</style>\n",
       "<table border=\"1\" class=\"dataframe\">\n",
       "  <thead>\n",
       "    <tr style=\"text-align: right;\">\n",
       "      <th></th>\n",
       "      <th>feature</th>\n",
       "      <th>coef</th>\n",
       "      <th>importance</th>\n",
       "    </tr>\n",
       "  </thead>\n",
       "  <tbody>\n",
       "    <tr>\n",
       "      <th>255</th>\n",
       "      <td>state of previous residence:  Colorado</td>\n",
       "      <td>-0.001418</td>\n",
       "      <td>0.001418</td>\n",
       "    </tr>\n",
       "    <tr>\n",
       "      <th>66</th>\n",
       "      <td>major industry code:  Entertainment</td>\n",
       "      <td>-0.001205</td>\n",
       "      <td>0.001205</td>\n",
       "    </tr>\n",
       "    <tr>\n",
       "      <th>207</th>\n",
       "      <td>detailed industry recode: 40</td>\n",
       "      <td>-0.001205</td>\n",
       "      <td>0.001205</td>\n",
       "    </tr>\n",
       "    <tr>\n",
       "      <th>163</th>\n",
       "      <td>hispanic origin:  Puerto Rican</td>\n",
       "      <td>-0.001083</td>\n",
       "      <td>0.001083</td>\n",
       "    </tr>\n",
       "    <tr>\n",
       "      <th>291</th>\n",
       "      <td>state of previous residence:  Tennessee</td>\n",
       "      <td>-0.000750</td>\n",
       "      <td>0.000750</td>\n",
       "    </tr>\n",
       "    <tr>\n",
       "      <th>192</th>\n",
       "      <td>detailed industry recode: 27</td>\n",
       "      <td>-0.000691</td>\n",
       "      <td>0.000691</td>\n",
       "    </tr>\n",
       "    <tr>\n",
       "      <th>298</th>\n",
       "      <td>state of previous residence:  Wyoming</td>\n",
       "      <td>-0.000502</td>\n",
       "      <td>0.000502</td>\n",
       "    </tr>\n",
       "    <tr>\n",
       "      <th>136</th>\n",
       "      <td>region of previous residence:  Not in universe</td>\n",
       "      <td>-0.000127</td>\n",
       "      <td>0.000127</td>\n",
       "    </tr>\n",
       "    <tr>\n",
       "      <th>284</th>\n",
       "      <td>state of previous residence:  Not in universe</td>\n",
       "      <td>-0.000127</td>\n",
       "      <td>0.000127</td>\n",
       "    </tr>\n",
       "    <tr>\n",
       "      <th>89</th>\n",
       "      <td>detailed occupation recode: 13</td>\n",
       "      <td>-0.000108</td>\n",
       "      <td>0.000108</td>\n",
       "    </tr>\n",
       "  </tbody>\n",
       "</table>\n",
       "</div>"
      ],
      "text/plain": [
       "                                            feature      coef  importance\n",
       "255          state of previous residence:  Colorado -0.001418    0.001418\n",
       "66              major industry code:  Entertainment -0.001205    0.001205\n",
       "207                    detailed industry recode: 40 -0.001205    0.001205\n",
       "163                  hispanic origin:  Puerto Rican -0.001083    0.001083\n",
       "291         state of previous residence:  Tennessee -0.000750    0.000750\n",
       "192                    detailed industry recode: 27 -0.000691    0.000691\n",
       "298           state of previous residence:  Wyoming -0.000502    0.000502\n",
       "136  region of previous residence:  Not in universe -0.000127    0.000127\n",
       "284   state of previous residence:  Not in universe -0.000127    0.000127\n",
       "89                   detailed occupation recode: 13 -0.000108    0.000108"
      ]
     },
     "execution_count": 27,
     "metadata": {},
     "output_type": "execute_result"
    }
   ],
   "source": [
    "logreg_feature_importance[logreg_feature_importance['coef'] < 0].tail(10)"
   ]
  },
  {
   "cell_type": "markdown",
   "id": "814799de-c78f-444c-b68f-f7af4b79da62",
   "metadata": {},
   "source": [
    "## Random Forest Classifier"
   ]
  },
  {
   "cell_type": "code",
   "execution_count": 28,
   "id": "4a73ed7a-c890-4088-985e-9aa83f03fa48",
   "metadata": {},
   "outputs": [],
   "source": [
    "randforest_pipe = make_pipeline(\n",
    "    preprocessing.StandardScaler(), \n",
    "    RandomForestClassifier()\n",
    ")"
   ]
  },
  {
   "cell_type": "code",
   "execution_count": 29,
   "id": "a35e7a79-4153-4a8e-8d64-34a1b54f8c29",
   "metadata": {},
   "outputs": [
    {
     "data": {
      "text/html": [
       "<style>#sk-container-id-2 {color: black;background-color: white;}#sk-container-id-2 pre{padding: 0;}#sk-container-id-2 div.sk-toggleable {background-color: white;}#sk-container-id-2 label.sk-toggleable__label {cursor: pointer;display: block;width: 100%;margin-bottom: 0;padding: 0.3em;box-sizing: border-box;text-align: center;}#sk-container-id-2 label.sk-toggleable__label-arrow:before {content: \"▸\";float: left;margin-right: 0.25em;color: #696969;}#sk-container-id-2 label.sk-toggleable__label-arrow:hover:before {color: black;}#sk-container-id-2 div.sk-estimator:hover label.sk-toggleable__label-arrow:before {color: black;}#sk-container-id-2 div.sk-toggleable__content {max-height: 0;max-width: 0;overflow: hidden;text-align: left;background-color: #f0f8ff;}#sk-container-id-2 div.sk-toggleable__content pre {margin: 0.2em;color: black;border-radius: 0.25em;background-color: #f0f8ff;}#sk-container-id-2 input.sk-toggleable__control:checked~div.sk-toggleable__content {max-height: 200px;max-width: 100%;overflow: auto;}#sk-container-id-2 input.sk-toggleable__control:checked~label.sk-toggleable__label-arrow:before {content: \"▾\";}#sk-container-id-2 div.sk-estimator input.sk-toggleable__control:checked~label.sk-toggleable__label {background-color: #d4ebff;}#sk-container-id-2 div.sk-label input.sk-toggleable__control:checked~label.sk-toggleable__label {background-color: #d4ebff;}#sk-container-id-2 input.sk-hidden--visually {border: 0;clip: rect(1px 1px 1px 1px);clip: rect(1px, 1px, 1px, 1px);height: 1px;margin: -1px;overflow: hidden;padding: 0;position: absolute;width: 1px;}#sk-container-id-2 div.sk-estimator {font-family: monospace;background-color: #f0f8ff;border: 1px dotted black;border-radius: 0.25em;box-sizing: border-box;margin-bottom: 0.5em;}#sk-container-id-2 div.sk-estimator:hover {background-color: #d4ebff;}#sk-container-id-2 div.sk-parallel-item::after {content: \"\";width: 100%;border-bottom: 1px solid gray;flex-grow: 1;}#sk-container-id-2 div.sk-label:hover label.sk-toggleable__label {background-color: #d4ebff;}#sk-container-id-2 div.sk-serial::before {content: \"\";position: absolute;border-left: 1px solid gray;box-sizing: border-box;top: 0;bottom: 0;left: 50%;z-index: 0;}#sk-container-id-2 div.sk-serial {display: flex;flex-direction: column;align-items: center;background-color: white;padding-right: 0.2em;padding-left: 0.2em;position: relative;}#sk-container-id-2 div.sk-item {position: relative;z-index: 1;}#sk-container-id-2 div.sk-parallel {display: flex;align-items: stretch;justify-content: center;background-color: white;position: relative;}#sk-container-id-2 div.sk-item::before, #sk-container-id-2 div.sk-parallel-item::before {content: \"\";position: absolute;border-left: 1px solid gray;box-sizing: border-box;top: 0;bottom: 0;left: 50%;z-index: -1;}#sk-container-id-2 div.sk-parallel-item {display: flex;flex-direction: column;z-index: 1;position: relative;background-color: white;}#sk-container-id-2 div.sk-parallel-item:first-child::after {align-self: flex-end;width: 50%;}#sk-container-id-2 div.sk-parallel-item:last-child::after {align-self: flex-start;width: 50%;}#sk-container-id-2 div.sk-parallel-item:only-child::after {width: 0;}#sk-container-id-2 div.sk-dashed-wrapped {border: 1px dashed gray;margin: 0 0.4em 0.5em 0.4em;box-sizing: border-box;padding-bottom: 0.4em;background-color: white;}#sk-container-id-2 div.sk-label label {font-family: monospace;font-weight: bold;display: inline-block;line-height: 1.2em;}#sk-container-id-2 div.sk-label-container {text-align: center;}#sk-container-id-2 div.sk-container {/* jupyter's `normalize.less` sets `[hidden] { display: none; }` but bootstrap.min.css set `[hidden] { display: none !important; }` so we also need the `!important` here to be able to override the default hidden behavior on the sphinx rendered scikit-learn.org. See: https://github.com/scikit-learn/scikit-learn/issues/21755 */display: inline-block !important;position: relative;}#sk-container-id-2 div.sk-text-repr-fallback {display: none;}</style><div id=\"sk-container-id-2\" class=\"sk-top-container\"><div class=\"sk-text-repr-fallback\"><pre>Pipeline(steps=[(&#x27;standardscaler&#x27;, StandardScaler()),\n",
       "                (&#x27;randomforestclassifier&#x27;, RandomForestClassifier())])</pre><b>In a Jupyter environment, please rerun this cell to show the HTML representation or trust the notebook. <br />On GitHub, the HTML representation is unable to render, please try loading this page with nbviewer.org.</b></div><div class=\"sk-container\" hidden><div class=\"sk-item sk-dashed-wrapped\"><div class=\"sk-label-container\"><div class=\"sk-label sk-toggleable\"><input class=\"sk-toggleable__control sk-hidden--visually\" id=\"sk-estimator-id-4\" type=\"checkbox\" ><label for=\"sk-estimator-id-4\" class=\"sk-toggleable__label sk-toggleable__label-arrow\">Pipeline</label><div class=\"sk-toggleable__content\"><pre>Pipeline(steps=[(&#x27;standardscaler&#x27;, StandardScaler()),\n",
       "                (&#x27;randomforestclassifier&#x27;, RandomForestClassifier())])</pre></div></div></div><div class=\"sk-serial\"><div class=\"sk-item\"><div class=\"sk-estimator sk-toggleable\"><input class=\"sk-toggleable__control sk-hidden--visually\" id=\"sk-estimator-id-5\" type=\"checkbox\" ><label for=\"sk-estimator-id-5\" class=\"sk-toggleable__label sk-toggleable__label-arrow\">StandardScaler</label><div class=\"sk-toggleable__content\"><pre>StandardScaler()</pre></div></div></div><div class=\"sk-item\"><div class=\"sk-estimator sk-toggleable\"><input class=\"sk-toggleable__control sk-hidden--visually\" id=\"sk-estimator-id-6\" type=\"checkbox\" ><label for=\"sk-estimator-id-6\" class=\"sk-toggleable__label sk-toggleable__label-arrow\">RandomForestClassifier</label><div class=\"sk-toggleable__content\"><pre>RandomForestClassifier()</pre></div></div></div></div></div></div></div>"
      ],
      "text/plain": [
       "Pipeline(steps=[('standardscaler', StandardScaler()),\n",
       "                ('randomforestclassifier', RandomForestClassifier())])"
      ]
     },
     "execution_count": 29,
     "metadata": {},
     "output_type": "execute_result"
    }
   ],
   "source": [
    "randforest_pipe.fit(X_train, y_train)"
   ]
  },
  {
   "cell_type": "code",
   "execution_count": 30,
   "id": "51cfa377-4552-4c0a-922d-2ae8828158a2",
   "metadata": {},
   "outputs": [],
   "source": [
    "y_pred_rf = randforest_pipe.predict(X_test)"
   ]
  },
  {
   "cell_type": "code",
   "execution_count": 31,
   "id": "9bd6add2-0374-4afb-86af-1a5deceaac34",
   "metadata": {},
   "outputs": [
    {
     "data": {
      "text/plain": [
       "array([[92675,   901],\n",
       "       [ 3690,  2496]])"
      ]
     },
     "execution_count": 31,
     "metadata": {},
     "output_type": "execute_result"
    }
   ],
   "source": [
    "randforest_confusion_matrix = metrics.confusion_matrix(y_test, y_pred_rf)\n",
    "randforest_confusion_matrix"
   ]
  },
  {
   "cell_type": "code",
   "execution_count": 32,
   "id": "c611c7ce-03e5-4018-af08-b2d05d1b713e",
   "metadata": {},
   "outputs": [
    {
     "name": "stdout",
     "output_type": "stream",
     "text": [
      "              precision    recall  f1-score   support\n",
      "\n",
      "       < 50K       0.96      0.99      0.98     93576\n",
      "       > 50K       0.73      0.40      0.52      6186\n",
      "\n",
      "    accuracy                           0.95     99762\n",
      "   macro avg       0.85      0.70      0.75     99762\n",
      "weighted avg       0.95      0.95      0.95     99762\n",
      "\n"
     ]
    }
   ],
   "source": [
    "print(metrics.classification_report(y_test, y_pred_rf, target_names=target_names))"
   ]
  },
  {
   "cell_type": "code",
   "execution_count": 33,
   "id": "85a8158e-ce9d-42de-9855-ee4eb3770f5c",
   "metadata": {},
   "outputs": [
    {
     "data": {
      "text/plain": [
       "0.9539804735269942"
      ]
     },
     "execution_count": 33,
     "metadata": {},
     "output_type": "execute_result"
    }
   ],
   "source": [
    "# Accuracy score\n",
    "randforest_pipe.score(X_test, y_test)"
   ]
  },
  {
   "cell_type": "code",
   "execution_count": 34,
   "id": "3928c950-2d34-496a-add2-ead30148f909",
   "metadata": {},
   "outputs": [
    {
     "name": "stdout",
     "output_type": "stream",
     "text": [
      "0.7347659699735061\n",
      "0.4034917555771096\n"
     ]
    }
   ],
   "source": [
    "precision = metrics.precision_score(y_test, y_pred_rf)\n",
    "print(precision)\n",
    "recall = metrics.recall_score(y_test, y_pred_rf)\n",
    "print(recall)"
   ]
  },
  {
   "cell_type": "code",
   "execution_count": 35,
   "id": "d12235fe-117a-45c1-b6e1-e7c5f4f86e10",
   "metadata": {},
   "outputs": [],
   "source": [
    "feature_importances = pd.DataFrame({\n",
    "    'feature': list(train_df.columns),\n",
    "    'importance': randforest_pipe.steps[1][1].feature_importances_\n",
    "}).sort_values('importance', ascending=False)\n"
   ]
  },
  {
   "cell_type": "code",
   "execution_count": 36,
   "id": "b32d0afe-67d1-4527-9b61-eff31c9618a0",
   "metadata": {},
   "outputs": [
    {
     "data": {
      "text/html": [
       "<div>\n",
       "<style scoped>\n",
       "    .dataframe tbody tr th:only-of-type {\n",
       "        vertical-align: middle;\n",
       "    }\n",
       "\n",
       "    .dataframe tbody tr th {\n",
       "        vertical-align: top;\n",
       "    }\n",
       "\n",
       "    .dataframe thead th {\n",
       "        text-align: right;\n",
       "    }\n",
       "</style>\n",
       "<table border=\"1\" class=\"dataframe\">\n",
       "  <thead>\n",
       "    <tr style=\"text-align: right;\">\n",
       "      <th></th>\n",
       "      <th>feature</th>\n",
       "      <th>importance</th>\n",
       "    </tr>\n",
       "  </thead>\n",
       "  <tbody>\n",
       "    <tr>\n",
       "      <th>0</th>\n",
       "      <td>age</td>\n",
       "      <td>0.094131</td>\n",
       "    </tr>\n",
       "    <tr>\n",
       "      <th>4</th>\n",
       "      <td>dividends from stocks</td>\n",
       "      <td>0.077113</td>\n",
       "    </tr>\n",
       "    <tr>\n",
       "      <th>2</th>\n",
       "      <td>capital gains</td>\n",
       "      <td>0.065694</td>\n",
       "    </tr>\n",
       "    <tr>\n",
       "      <th>5</th>\n",
       "      <td>num persons worked for employer</td>\n",
       "      <td>0.041695</td>\n",
       "    </tr>\n",
       "    <tr>\n",
       "      <th>6</th>\n",
       "      <td>weeks worked in year</td>\n",
       "      <td>0.030209</td>\n",
       "    </tr>\n",
       "    <tr>\n",
       "      <th>3</th>\n",
       "      <td>capital losses</td>\n",
       "      <td>0.021803</td>\n",
       "    </tr>\n",
       "    <tr>\n",
       "      <th>131</th>\n",
       "      <td>sex:  Female</td>\n",
       "      <td>0.018483</td>\n",
       "    </tr>\n",
       "    <tr>\n",
       "      <th>301</th>\n",
       "      <td>major occupation code:  Executive admin and ma...</td>\n",
       "      <td>0.016612</td>\n",
       "    </tr>\n",
       "    <tr>\n",
       "      <th>96</th>\n",
       "      <td>detailed occupation recode: 2</td>\n",
       "      <td>0.016205</td>\n",
       "    </tr>\n",
       "    <tr>\n",
       "      <th>9</th>\n",
       "      <td>education: Bachelors degree</td>\n",
       "      <td>0.016021</td>\n",
       "    </tr>\n",
       "    <tr>\n",
       "      <th>15</th>\n",
       "      <td>education: Masters degree</td>\n",
       "      <td>0.015907</td>\n",
       "    </tr>\n",
       "    <tr>\n",
       "      <th>132</th>\n",
       "      <td>sex:  Male</td>\n",
       "      <td>0.015248</td>\n",
       "    </tr>\n",
       "    <tr>\n",
       "      <th>309</th>\n",
       "      <td>major occupation code:  Professional specialty</td>\n",
       "      <td>0.015115</td>\n",
       "    </tr>\n",
       "    <tr>\n",
       "      <th>324</th>\n",
       "      <td>detailed household summary in household:  Hous...</td>\n",
       "      <td>0.013639</td>\n",
       "    </tr>\n",
       "    <tr>\n",
       "      <th>17</th>\n",
       "      <td>education: Prof school degree (MD DDS DVM LLB JD)</td>\n",
       "      <td>0.011807</td>\n",
       "    </tr>\n",
       "    <tr>\n",
       "      <th>13</th>\n",
       "      <td>education: High school graduate</td>\n",
       "      <td>0.011730</td>\n",
       "    </tr>\n",
       "    <tr>\n",
       "      <th>1</th>\n",
       "      <td>wage per hour</td>\n",
       "      <td>0.009404</td>\n",
       "    </tr>\n",
       "    <tr>\n",
       "      <th>29</th>\n",
       "      <td>tax filer stat:  Joint both under 65</td>\n",
       "      <td>0.009338</td>\n",
       "    </tr>\n",
       "    <tr>\n",
       "      <th>18</th>\n",
       "      <td>education: Some college but no degree</td>\n",
       "      <td>0.009168</td>\n",
       "    </tr>\n",
       "    <tr>\n",
       "      <th>230</th>\n",
       "      <td>own business or self employed: 0</td>\n",
       "      <td>0.008599</td>\n",
       "    </tr>\n",
       "  </tbody>\n",
       "</table>\n",
       "</div>"
      ],
      "text/plain": [
       "                                               feature  importance\n",
       "0                                                  age    0.094131\n",
       "4                                dividends from stocks    0.077113\n",
       "2                                        capital gains    0.065694\n",
       "5                      num persons worked for employer    0.041695\n",
       "6                                 weeks worked in year    0.030209\n",
       "3                                       capital losses    0.021803\n",
       "131                                       sex:  Female    0.018483\n",
       "301  major occupation code:  Executive admin and ma...    0.016612\n",
       "96                       detailed occupation recode: 2    0.016205\n",
       "9                          education: Bachelors degree    0.016021\n",
       "15                           education: Masters degree    0.015907\n",
       "132                                         sex:  Male    0.015248\n",
       "309     major occupation code:  Professional specialty    0.015115\n",
       "324  detailed household summary in household:  Hous...    0.013639\n",
       "17   education: Prof school degree (MD DDS DVM LLB JD)    0.011807\n",
       "13                     education: High school graduate    0.011730\n",
       "1                                        wage per hour    0.009404\n",
       "29                tax filer stat:  Joint both under 65    0.009338\n",
       "18               education: Some college but no degree    0.009168\n",
       "230                   own business or self employed: 0    0.008599"
      ]
     },
     "execution_count": 36,
     "metadata": {},
     "output_type": "execute_result"
    }
   ],
   "source": [
    "feature_importances.head(20)"
   ]
  },
  {
   "cell_type": "code",
   "execution_count": 37,
   "id": "7d958743-c4d5-400f-b942-66d9210aa883",
   "metadata": {},
   "outputs": [
    {
     "data": {
      "text/html": [
       "<div>\n",
       "<style scoped>\n",
       "    .dataframe tbody tr th:only-of-type {\n",
       "        vertical-align: middle;\n",
       "    }\n",
       "\n",
       "    .dataframe tbody tr th {\n",
       "        vertical-align: top;\n",
       "    }\n",
       "\n",
       "    .dataframe thead th {\n",
       "        text-align: right;\n",
       "    }\n",
       "</style>\n",
       "<table border=\"1\" class=\"dataframe\">\n",
       "  <thead>\n",
       "    <tr style=\"text-align: right;\">\n",
       "      <th></th>\n",
       "      <th>feature</th>\n",
       "      <th>importance</th>\n",
       "    </tr>\n",
       "  </thead>\n",
       "  <tbody>\n",
       "    <tr>\n",
       "      <th>295</th>\n",
       "      <td>state of previous residence:  Virginia</td>\n",
       "      <td>4.765142e-05</td>\n",
       "    </tr>\n",
       "    <tr>\n",
       "      <th>252</th>\n",
       "      <td>state of previous residence:  Arizona</td>\n",
       "      <td>4.633389e-05</td>\n",
       "    </tr>\n",
       "    <tr>\n",
       "      <th>257</th>\n",
       "      <td>state of previous residence:  Delaware</td>\n",
       "      <td>4.444303e-05</td>\n",
       "    </tr>\n",
       "    <tr>\n",
       "      <th>267</th>\n",
       "      <td>state of previous residence:  Louisiana</td>\n",
       "      <td>4.236495e-05</td>\n",
       "    </tr>\n",
       "    <tr>\n",
       "      <th>269</th>\n",
       "      <td>state of previous residence:  Maryland</td>\n",
       "      <td>4.144537e-05</td>\n",
       "    </tr>\n",
       "    <tr>\n",
       "      <th>285</th>\n",
       "      <td>state of previous residence:  Ohio</td>\n",
       "      <td>4.115744e-05</td>\n",
       "    </tr>\n",
       "    <tr>\n",
       "      <th>104</th>\n",
       "      <td>detailed occupation recode: 27</td>\n",
       "      <td>3.481361e-05</td>\n",
       "    </tr>\n",
       "    <tr>\n",
       "      <th>41</th>\n",
       "      <td>class of worker:  Without pay</td>\n",
       "      <td>3.432382e-05</td>\n",
       "    </tr>\n",
       "    <tr>\n",
       "      <th>261</th>\n",
       "      <td>state of previous residence:  Idaho</td>\n",
       "      <td>2.227310e-05</td>\n",
       "    </tr>\n",
       "    <tr>\n",
       "      <th>308</th>\n",
       "      <td>major occupation code:  Private household serv...</td>\n",
       "      <td>2.211760e-05</td>\n",
       "    </tr>\n",
       "    <tr>\n",
       "      <th>35</th>\n",
       "      <td>class of worker:  Never worked</td>\n",
       "      <td>1.605700e-05</td>\n",
       "    </tr>\n",
       "    <tr>\n",
       "      <th>316</th>\n",
       "      <td>reason for unemployment:  New entrant</td>\n",
       "      <td>1.583909e-05</td>\n",
       "    </tr>\n",
       "    <tr>\n",
       "      <th>323</th>\n",
       "      <td>detailed household summary in household:  Grou...</td>\n",
       "      <td>1.508341e-05</td>\n",
       "    </tr>\n",
       "    <tr>\n",
       "      <th>227</th>\n",
       "      <td>veterans benefits: 0</td>\n",
       "      <td>3.221725e-06</td>\n",
       "    </tr>\n",
       "    <tr>\n",
       "      <th>174</th>\n",
       "      <td>detailed industry recode: 10</td>\n",
       "      <td>8.494796e-07</td>\n",
       "    </tr>\n",
       "    <tr>\n",
       "      <th>21</th>\n",
       "      <td>family members under 18:  Father only present</td>\n",
       "      <td>4.782643e-07</td>\n",
       "    </tr>\n",
       "    <tr>\n",
       "      <th>23</th>\n",
       "      <td>family members under 18:  Neither parent present</td>\n",
       "      <td>4.005420e-07</td>\n",
       "    </tr>\n",
       "    <tr>\n",
       "      <th>321</th>\n",
       "      <td>detailed household summary in household:  Chil...</td>\n",
       "      <td>1.120770e-07</td>\n",
       "    </tr>\n",
       "    <tr>\n",
       "      <th>51</th>\n",
       "      <td>migration code-change in reg:  Not in universe</td>\n",
       "      <td>5.813532e-09</td>\n",
       "    </tr>\n",
       "    <tr>\n",
       "      <th>147</th>\n",
       "      <td>migration code-move within reg:  Not in universe</td>\n",
       "      <td>5.607791e-10</td>\n",
       "    </tr>\n",
       "  </tbody>\n",
       "</table>\n",
       "</div>"
      ],
      "text/plain": [
       "                                               feature    importance\n",
       "295             state of previous residence:  Virginia  4.765142e-05\n",
       "252              state of previous residence:  Arizona  4.633389e-05\n",
       "257             state of previous residence:  Delaware  4.444303e-05\n",
       "267            state of previous residence:  Louisiana  4.236495e-05\n",
       "269             state of previous residence:  Maryland  4.144537e-05\n",
       "285                 state of previous residence:  Ohio  4.115744e-05\n",
       "104                     detailed occupation recode: 27  3.481361e-05\n",
       "41                       class of worker:  Without pay  3.432382e-05\n",
       "261                state of previous residence:  Idaho  2.227310e-05\n",
       "308  major occupation code:  Private household serv...  2.211760e-05\n",
       "35                      class of worker:  Never worked  1.605700e-05\n",
       "316              reason for unemployment:  New entrant  1.583909e-05\n",
       "323  detailed household summary in household:  Grou...  1.508341e-05\n",
       "227                               veterans benefits: 0  3.221725e-06\n",
       "174                       detailed industry recode: 10  8.494796e-07\n",
       "21       family members under 18:  Father only present  4.782643e-07\n",
       "23    family members under 18:  Neither parent present  4.005420e-07\n",
       "321  detailed household summary in household:  Chil...  1.120770e-07\n",
       "51      migration code-change in reg:  Not in universe  5.813532e-09\n",
       "147   migration code-move within reg:  Not in universe  5.607791e-10"
      ]
     },
     "execution_count": 37,
     "metadata": {},
     "output_type": "execute_result"
    }
   ],
   "source": [
    "feature_importances.tail(20)"
   ]
  },
  {
   "cell_type": "code",
   "execution_count": null,
   "id": "a056e7e0-e4de-41c9-8cd5-ab6ae6d6529d",
   "metadata": {},
   "outputs": [],
   "source": []
  }
 ],
 "metadata": {
  "kernelspec": {
   "display_name": "Python 3 (ipykernel)",
   "language": "python",
   "name": "python3"
  },
  "language_info": {
   "codemirror_mode": {
    "name": "ipython",
    "version": 3
   },
   "file_extension": ".py",
   "mimetype": "text/x-python",
   "name": "python",
   "nbconvert_exporter": "python",
   "pygments_lexer": "ipython3",
   "version": "3.9.9"
  }
 },
 "nbformat": 4,
 "nbformat_minor": 5
}
