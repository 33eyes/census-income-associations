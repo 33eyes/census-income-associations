{
 "cells": [
  {
   "cell_type": "markdown",
   "id": "fbba2e58-8412-44b0-b133-a484d7acdca2",
   "metadata": {},
   "source": [
    "# Data Prep"
   ]
  },
  {
   "cell_type": "code",
   "execution_count": 1,
   "id": "57e614ff-0d82-4d10-9ebe-c5da0887a616",
   "metadata": {},
   "outputs": [],
   "source": [
    "import pandas as pd\n",
    "import numpy as np\n",
    "import math \n",
    "import pickle\n",
    "\n",
    "import plotly.express as px\n",
    "import plotly.graph_objects as go\n",
    "from IPython.display import display, HTML\n",
    "\n",
    "from sklearn import preprocessing"
   ]
  },
  {
   "cell_type": "code",
   "execution_count": 2,
   "id": "5cf98423-ba00-4946-a6a4-c043b0438775",
   "metadata": {},
   "outputs": [],
   "source": [
    "train_df = pd.read_pickle('cleaned_train_df.pkl')"
   ]
  },
  {
   "cell_type": "code",
   "execution_count": 3,
   "id": "02470abd-e392-40da-b4b1-10e564a8a364",
   "metadata": {},
   "outputs": [],
   "source": [
    "test_df = pd.read_pickle('cleaned_test_df.pkl')"
   ]
  },
  {
   "cell_type": "code",
   "execution_count": 4,
   "id": "2963be09-54ab-4379-bcfa-dfd508821c1e",
   "metadata": {},
   "outputs": [],
   "source": [
    "with open('con_fields.pkl', 'rb') as f:\n",
    "    con_fields = pickle.load(f)\n",
    "with open('nom_fields.pkl', 'rb') as f:\n",
    "    nom_fields = pickle.load(f)"
   ]
  },
  {
   "cell_type": "code",
   "execution_count": 5,
   "id": "0453e596-0aed-4c44-b26b-7c93fe9b16e9",
   "metadata": {},
   "outputs": [
    {
     "data": {
      "text/plain": [
       "['education',\n",
       " 'family members under 18',\n",
       " 'country of birth self',\n",
       " 'tax filer stat',\n",
       " 'class of worker',\n",
       " 'year',\n",
       " 'migration code-change in reg',\n",
       " 'marital stat',\n",
       " 'detailed household and family stat',\n",
       " 'migration code-change in msa',\n",
       " 'major industry code',\n",
       " 'detailed occupation recode',\n",
       " 'sex',\n",
       " 'region of previous residence',\n",
       " 'migration code-move within reg',\n",
       " 'race',\n",
       " 'hispanic origin',\n",
       " 'enroll in edu inst last wk',\n",
       " 'member of a labor union',\n",
       " 'country of birth mother',\n",
       " 'target',\n",
       " 'migration prev res in sunbelt',\n",
       " 'detailed industry recode',\n",
       " 'live in this house 1 year ago',\n",
       " 'veterans benefits',\n",
       " 'own business or self employed',\n",
       " 'full or part time employment stat',\n",
       " 'country of birth father',\n",
       " 'citizenship',\n",
       " 'state of previous residence',\n",
       " 'major occupation code',\n",
       " \"fill inc questionnaire for veteran's admin\",\n",
       " 'reason for unemployment',\n",
       " 'detailed household summary in household']"
      ]
     },
     "execution_count": 5,
     "metadata": {},
     "output_type": "execute_result"
    }
   ],
   "source": [
    "[\n",
    " 'education', # reduce num cats\n",
    " 'family members under 18', # use\n",
    " 'country of birth self', # reduce to USA/other\n",
    " 'tax filer stat', # use\n",
    " 'class of worker', # use\n",
    " 'year', # use\n",
    " 'migration code-change in reg', # use\n",
    " 'marital stat', # use\n",
    " 'detailed household and family stat', # skip\n",
    " 'migration code-change in msa', # skip\n",
    " 'major industry code', # use\n",
    " 'detailed occupation recode', # use\n",
    " 'sex', # use\n",
    " 'region of previous residence', # use\n",
    " 'migration code-move within reg', # use\n",
    " 'race', # use\n",
    " 'hispanic origin', # use\n",
    " 'enroll in edu inst last wk', # use\n",
    " 'member of a labor union', # use\n",
    " 'country of birth mother', # reduce to USA/other\n",
    " 'target', # use\n",
    " 'migration prev res in sunbelt', # skip\n",
    " 'detailed industry recode', # use\n",
    " 'live in this house 1 year ago', # use\n",
    " 'veterans benefits', # use\n",
    " 'own business or self employed', # use\n",
    " 'full or part time employment stat', # use\n",
    " 'country of birth father', # reduce to USA/other\n",
    " 'citizenship', # use\n",
    " 'state of previous residence', # use\n",
    " 'major occupation code', # use\n",
    " \"fill inc questionnaire for veteran's admin\", # skip\n",
    " 'reason for unemployment', # use\n",
    " 'detailed household summary in household' # use\n",
    "]"
   ]
  },
  {
   "cell_type": "markdown",
   "id": "8f109528-65df-4d7b-b301-388662790bea",
   "metadata": {},
   "source": [
    "### Education"
   ]
  },
  {
   "cell_type": "code",
   "execution_count": 6,
   "id": "8eb314d2-b55c-42dd-a6ed-5149f9ae9bb8",
   "metadata": {},
   "outputs": [],
   "source": [
    "education_map = {\n",
    "    'Children': 'Children', \n",
    "    'Less than 1st grade': 'Less than 1st grade', \n",
    "    '1st 2nd 3rd or 4th grade': 'Elementary school', \n",
    "    '5th or 6th grade': 'Middle school', \n",
    "    '7th and 8th grade': 'Middle school', \n",
    "    '9th grade': 'Some high school', \n",
    "    '10th grade': 'Some high school',  \n",
    "    '11th grade': 'Some high school', \n",
    "    '12th grade no diploma': 'Some high school', \n",
    "    'High school graduate': 'High school graduate',\n",
    "    'Some college but no degree': 'Some college but no degree', \n",
    "    'Bachelors degree(BA AB BS)': 'Bachelors degree', \n",
    "    'Masters degree(MA MS MEng MEd MSW MBA)': 'Masters degree', \n",
    "    'Associates degree-occup /vocational': 'Associates degree-occup /vocational', \n",
    "    'Associates degree-academic program': 'Associates degree-academic program', \n",
    "    'Doctorate degree(PhD EdD)': 'Doctorate degree(PhD EdD)', \n",
    "    'Prof school degree (MD DDS DVM LLB JD)': 'Prof school degree (MD DDS DVM LLB JD)'\n",
    "}"
   ]
  },
  {
   "cell_type": "code",
   "execution_count": 7,
   "id": "c8515dfc-bf8b-4389-87ce-cf9cb95b9019",
   "metadata": {},
   "outputs": [],
   "source": [
    "train_df['education'] = train_df['education'].str.strip().map(education_map)\n",
    "test_df['education'] = test_df['education'].str.strip().map(education_map)"
   ]
  },
  {
   "cell_type": "code",
   "execution_count": 8,
   "id": "6f48c941-f09a-4ed6-a1e8-b335d803da98",
   "metadata": {},
   "outputs": [
    {
     "data": {
      "text/plain": [
       "0          High school graduate\n",
       "1    Some college but no degree\n",
       "2              Some high school\n",
       "3                      Children\n",
       "4                      Children\n",
       "Name: education, dtype: object"
      ]
     },
     "execution_count": 8,
     "metadata": {},
     "output_type": "execute_result"
    }
   ],
   "source": [
    "train_df['education'].head()"
   ]
  },
  {
   "cell_type": "markdown",
   "id": "f1340fc9-b670-4017-90fc-d827bc5946c3",
   "metadata": {},
   "source": [
    "### Countries"
   ]
  },
  {
   "cell_type": "code",
   "execution_count": 9,
   "id": "b9805155-3afb-4cee-a41f-db8a37f7b1a8",
   "metadata": {},
   "outputs": [],
   "source": [
    "train_df['country of birth self'] = train_df['country of birth self']\\\n",
    "    .str.strip().apply(\n",
    "        lambda x: 'United States' if x == 'United-States' else 'other'\n",
    "    )\n",
    "\n",
    "test_df['country of birth self'] = test_df['country of birth self']\\\n",
    "    .str.strip().apply(\n",
    "        lambda x: 'United States' if x == 'United-States' else 'other'\n",
    "    )"
   ]
  },
  {
   "cell_type": "code",
   "execution_count": 10,
   "id": "18d7b25a-6579-4467-a294-846195e7dfe8",
   "metadata": {},
   "outputs": [],
   "source": [
    "country_field = 'country of birth mother'\n",
    "train_df[country_field] = train_df[country_field].str.strip().apply(\n",
    "        lambda x: 'United States' if x == 'United-States' else 'other'\n",
    "    )\n",
    "\n",
    "test_df[country_field] = test_df[country_field].str.strip().apply(\n",
    "        lambda x: 'United States' if x == 'United-States' else 'other'\n",
    "    )"
   ]
  },
  {
   "cell_type": "code",
   "execution_count": 11,
   "id": "f8125dd8-6674-4199-8075-46a88b571add",
   "metadata": {},
   "outputs": [],
   "source": [
    "country_field = 'country of birth father'\n",
    "train_df[country_field] = train_df[country_field].str.strip().apply(\n",
    "        lambda x: 'United States' if x == 'United-States' else 'other'\n",
    "    )\n",
    "\n",
    "test_df[country_field] = test_df[country_field].str.strip().apply(\n",
    "        lambda x: 'United States' if x == 'United-States' else 'other'\n",
    "    )"
   ]
  },
  {
   "cell_type": "markdown",
   "id": "11f71eda-d379-4494-97dd-3549fc0fb743",
   "metadata": {},
   "source": [
    "## Encoding categorical vars"
   ]
  },
  {
   "cell_type": "code",
   "execution_count": 12,
   "id": "fb223654-5862-45ef-8a21-8ac08e4e655c",
   "metadata": {},
   "outputs": [],
   "source": [
    "vars_to_encode = [\n",
    " 'education', # reduce num cats, ordinal\n",
    " 'family members under 18', # use\n",
    " 'country of birth self', # reduce to USA/other\n",
    " 'tax filer stat', # use\n",
    " 'class of worker', # use\n",
    " 'year', # use\n",
    " 'migration code-change in reg', # use\n",
    " 'marital stat', # use\n",
    " # 'detailed household and family stat', # skip\n",
    " # 'migration code-change in msa', # skip\n",
    " 'major industry code', # use\n",
    " 'detailed occupation recode', # use\n",
    " 'sex', # use\n",
    " 'region of previous residence', # use\n",
    " 'migration code-move within reg', # use\n",
    " 'race', # use\n",
    " 'hispanic origin', # use\n",
    " 'enroll in edu inst last wk', # use\n",
    " 'member of a labor union', # use\n",
    " 'country of birth mother', # reduce to USA/other or skip\n",
    " # 'target', # use as y/target\n",
    " # 'migration prev res in sunbelt', # skip\n",
    " 'detailed industry recode', # use\n",
    " 'live in this house 1 year ago', # use\n",
    " 'veterans benefits', # use\n",
    " 'own business or self employed', # use\n",
    " 'full or part time employment stat', # use\n",
    " 'country of birth father', # reduce to USA/other or skip\n",
    " 'citizenship', # use\n",
    " 'state of previous residence', # use\n",
    " 'major occupation code', # use\n",
    " # \"fill inc questionnaire for veteran's admin\", # skip\n",
    " 'reason for unemployment', # use\n",
    " 'detailed household summary in household' # use\n",
    "]"
   ]
  },
  {
   "cell_type": "markdown",
   "id": "51b60eff-245a-4fb0-a764-d805900dad67",
   "metadata": {},
   "source": [
    "### One-Hot encoding"
   ]
  },
  {
   "cell_type": "code",
   "execution_count": 13,
   "id": "b949d6af-1a22-4c73-aed6-9ea1f152e139",
   "metadata": {},
   "outputs": [],
   "source": [
    "# education_categories = [\n",
    "#     'Children', \n",
    "#     'Less than 1st grade', \n",
    "#     'Elementary school', \n",
    "#     'Middle school', \n",
    "#     'Some high school', \n",
    "#     'High school graduate',\n",
    "#     'Some college but no degree', \n",
    "#     'Bachelors degree', \n",
    "#     'Masters degree', \n",
    "#     'Associates degree-occup /vocational', \n",
    "#     'Associates degree-academic program', \n",
    "#     'Doctorate degree(PhD EdD)', \n",
    "#     'Prof school degree (MD DDS DVM LLB JD)'\n",
    "# ]"
   ]
  },
  {
   "cell_type": "code",
   "execution_count": 14,
   "id": "74200a74-c776-4046-8b9e-e452cff90bd0",
   "metadata": {},
   "outputs": [],
   "source": [
    "ohe = preprocessing.OneHotEncoder(\n",
    "    sparse_output=False, \n",
    "#    drop='first'\n",
    ")"
   ]
  },
  {
   "cell_type": "markdown",
   "id": "dd99c75e-222f-4648-b1d8-43731d980b93",
   "metadata": {},
   "source": [
    "#### Train"
   ]
  },
  {
   "cell_type": "code",
   "execution_count": 15,
   "id": "6605c8ca-9c67-43ae-b4ce-b5d1f694e52a",
   "metadata": {},
   "outputs": [
    {
     "data": {
      "text/html": [
       "<style>#sk-container-id-1 {color: black;background-color: white;}#sk-container-id-1 pre{padding: 0;}#sk-container-id-1 div.sk-toggleable {background-color: white;}#sk-container-id-1 label.sk-toggleable__label {cursor: pointer;display: block;width: 100%;margin-bottom: 0;padding: 0.3em;box-sizing: border-box;text-align: center;}#sk-container-id-1 label.sk-toggleable__label-arrow:before {content: \"▸\";float: left;margin-right: 0.25em;color: #696969;}#sk-container-id-1 label.sk-toggleable__label-arrow:hover:before {color: black;}#sk-container-id-1 div.sk-estimator:hover label.sk-toggleable__label-arrow:before {color: black;}#sk-container-id-1 div.sk-toggleable__content {max-height: 0;max-width: 0;overflow: hidden;text-align: left;background-color: #f0f8ff;}#sk-container-id-1 div.sk-toggleable__content pre {margin: 0.2em;color: black;border-radius: 0.25em;background-color: #f0f8ff;}#sk-container-id-1 input.sk-toggleable__control:checked~div.sk-toggleable__content {max-height: 200px;max-width: 100%;overflow: auto;}#sk-container-id-1 input.sk-toggleable__control:checked~label.sk-toggleable__label-arrow:before {content: \"▾\";}#sk-container-id-1 div.sk-estimator input.sk-toggleable__control:checked~label.sk-toggleable__label {background-color: #d4ebff;}#sk-container-id-1 div.sk-label input.sk-toggleable__control:checked~label.sk-toggleable__label {background-color: #d4ebff;}#sk-container-id-1 input.sk-hidden--visually {border: 0;clip: rect(1px 1px 1px 1px);clip: rect(1px, 1px, 1px, 1px);height: 1px;margin: -1px;overflow: hidden;padding: 0;position: absolute;width: 1px;}#sk-container-id-1 div.sk-estimator {font-family: monospace;background-color: #f0f8ff;border: 1px dotted black;border-radius: 0.25em;box-sizing: border-box;margin-bottom: 0.5em;}#sk-container-id-1 div.sk-estimator:hover {background-color: #d4ebff;}#sk-container-id-1 div.sk-parallel-item::after {content: \"\";width: 100%;border-bottom: 1px solid gray;flex-grow: 1;}#sk-container-id-1 div.sk-label:hover label.sk-toggleable__label {background-color: #d4ebff;}#sk-container-id-1 div.sk-serial::before {content: \"\";position: absolute;border-left: 1px solid gray;box-sizing: border-box;top: 0;bottom: 0;left: 50%;z-index: 0;}#sk-container-id-1 div.sk-serial {display: flex;flex-direction: column;align-items: center;background-color: white;padding-right: 0.2em;padding-left: 0.2em;position: relative;}#sk-container-id-1 div.sk-item {position: relative;z-index: 1;}#sk-container-id-1 div.sk-parallel {display: flex;align-items: stretch;justify-content: center;background-color: white;position: relative;}#sk-container-id-1 div.sk-item::before, #sk-container-id-1 div.sk-parallel-item::before {content: \"\";position: absolute;border-left: 1px solid gray;box-sizing: border-box;top: 0;bottom: 0;left: 50%;z-index: -1;}#sk-container-id-1 div.sk-parallel-item {display: flex;flex-direction: column;z-index: 1;position: relative;background-color: white;}#sk-container-id-1 div.sk-parallel-item:first-child::after {align-self: flex-end;width: 50%;}#sk-container-id-1 div.sk-parallel-item:last-child::after {align-self: flex-start;width: 50%;}#sk-container-id-1 div.sk-parallel-item:only-child::after {width: 0;}#sk-container-id-1 div.sk-dashed-wrapped {border: 1px dashed gray;margin: 0 0.4em 0.5em 0.4em;box-sizing: border-box;padding-bottom: 0.4em;background-color: white;}#sk-container-id-1 div.sk-label label {font-family: monospace;font-weight: bold;display: inline-block;line-height: 1.2em;}#sk-container-id-1 div.sk-label-container {text-align: center;}#sk-container-id-1 div.sk-container {/* jupyter's `normalize.less` sets `[hidden] { display: none; }` but bootstrap.min.css set `[hidden] { display: none !important; }` so we also need the `!important` here to be able to override the default hidden behavior on the sphinx rendered scikit-learn.org. See: https://github.com/scikit-learn/scikit-learn/issues/21755 */display: inline-block !important;position: relative;}#sk-container-id-1 div.sk-text-repr-fallback {display: none;}</style><div id=\"sk-container-id-1\" class=\"sk-top-container\"><div class=\"sk-text-repr-fallback\"><pre>OneHotEncoder(sparse_output=False)</pre><b>In a Jupyter environment, please rerun this cell to show the HTML representation or trust the notebook. <br />On GitHub, the HTML representation is unable to render, please try loading this page with nbviewer.org.</b></div><div class=\"sk-container\" hidden><div class=\"sk-item\"><div class=\"sk-estimator sk-toggleable\"><input class=\"sk-toggleable__control sk-hidden--visually\" id=\"sk-estimator-id-1\" type=\"checkbox\" checked><label for=\"sk-estimator-id-1\" class=\"sk-toggleable__label sk-toggleable__label-arrow\">OneHotEncoder</label><div class=\"sk-toggleable__content\"><pre>OneHotEncoder(sparse_output=False)</pre></div></div></div></div></div>"
      ],
      "text/plain": [
       "OneHotEncoder(sparse_output=False)"
      ]
     },
     "execution_count": 15,
     "metadata": {},
     "output_type": "execute_result"
    }
   ],
   "source": [
    "ohe.fit(train_df[vars_to_encode])"
   ]
  },
  {
   "cell_type": "code",
   "execution_count": 16,
   "id": "292589cc-8f00-4a23-bf5d-d0f78beddebd",
   "metadata": {},
   "outputs": [],
   "source": [
    "X_nom_train_enc = ohe.transform(train_df[vars_to_encode])"
   ]
  },
  {
   "cell_type": "code",
   "execution_count": 17,
   "id": "5fa1682c-25a4-40f7-aba1-d5cd572caf0f",
   "metadata": {},
   "outputs": [
    {
     "data": {
      "text/plain": [
       "[array(['Associates degree-academic program',\n",
       "        'Associates degree-occup /vocational', 'Bachelors degree',\n",
       "        'Children', 'Doctorate degree(PhD EdD)', 'Elementary school',\n",
       "        'High school graduate', 'Less than 1st grade', 'Masters degree',\n",
       "        'Middle school', 'Prof school degree (MD DDS DVM LLB JD)',\n",
       "        'Some college but no degree', 'Some high school'], dtype=object),\n",
       " array([' Both parents present', ' Father only present',\n",
       "        ' Mother only present', ' Neither parent present',\n",
       "        ' Not in universe'], dtype=object),\n",
       " array(['United States', 'other'], dtype=object),\n",
       " array([' Head of household', ' Joint both 65+', ' Joint both under 65',\n",
       "        ' Joint one under 65 & one 65+', ' Nonfiler', ' Single'],\n",
       "       dtype=object),\n",
       " array([' Federal government', ' Local government', ' Never worked',\n",
       "        ' Not in universe', ' Private', ' Self-employed-incorporated',\n",
       "        ' Self-employed-not incorporated', ' State government',\n",
       "        ' Without pay'], dtype=object),\n",
       " array(['94', '95'], dtype=object),\n",
       " array([' ?', ' Abroad', ' Different county same state',\n",
       "        ' Different division same region', ' Different region',\n",
       "        ' Different state same division', ' Nonmover', ' Not in universe',\n",
       "        ' Same county'], dtype=object),\n",
       " array([' Divorced', ' Married-A F spouse present',\n",
       "        ' Married-civilian spouse present', ' Married-spouse absent',\n",
       "        ' Never married', ' Separated', ' Widowed'], dtype=object),\n",
       " array([' Agriculture', ' Armed Forces', ' Business and repair services',\n",
       "        ' Communications', ' Construction', ' Education', ' Entertainment',\n",
       "        ' Finance insurance and real estate', ' Forestry and fisheries',\n",
       "        ' Hospital services', ' Manufacturing-durable goods',\n",
       "        ' Manufacturing-nondurable goods', ' Medical except hospital',\n",
       "        ' Mining', ' Not in universe or children',\n",
       "        ' Other professional services',\n",
       "        ' Personal services except private HH',\n",
       "        ' Private household services', ' Public administration',\n",
       "        ' Retail trade', ' Social services', ' Transportation',\n",
       "        ' Utilities and sanitary services', ' Wholesale trade'],\n",
       "       dtype=object),\n",
       " array(['0', '1', '10', '11', '12', '13', '14', '15', '16', '17', '18',\n",
       "        '19', '2', '20', '21', '22', '23', '24', '25', '26', '27', '28',\n",
       "        '29', '3', '30', '31', '32', '33', '34', '35', '36', '37', '38',\n",
       "        '39', '4', '40', '41', '42', '43', '44', '45', '46', '5', '6', '7',\n",
       "        '8', '9'], dtype=object),\n",
       " array([' Female', ' Male'], dtype=object),\n",
       " array([' Abroad', ' Midwest', ' Northeast', ' Not in universe', ' South',\n",
       "        ' West'], dtype=object),\n",
       " array([' ?', ' Abroad', ' Different county same state',\n",
       "        ' Different state in Midwest', ' Different state in Northeast',\n",
       "        ' Different state in South', ' Different state in West',\n",
       "        ' Nonmover', ' Not in universe', ' Same county'], dtype=object),\n",
       " array([' Amer Indian Aleut or Eskimo', ' Asian or Pacific Islander',\n",
       "        ' Black', ' Other', ' White'], dtype=object),\n",
       " array([' All other', ' Central or South American', ' Chicano', ' Cuban',\n",
       "        ' Do not know', ' Mexican (Mexicano)', ' Mexican-American', ' NA',\n",
       "        ' Other Spanish', ' Puerto Rican'], dtype=object),\n",
       " array([' College or university', ' High school', ' Not in universe'],\n",
       "       dtype=object),\n",
       " array([' No', ' Not in universe', ' Yes'], dtype=object),\n",
       " array(['United States', 'other'], dtype=object),\n",
       " array(['0', '1', '10', '11', '12', '13', '14', '15', '16', '17', '18',\n",
       "        '19', '2', '20', '21', '22', '23', '24', '25', '26', '27', '28',\n",
       "        '29', '3', '30', '31', '32', '33', '34', '35', '36', '37', '38',\n",
       "        '39', '4', '40', '41', '42', '43', '44', '45', '46', '47', '48',\n",
       "        '49', '5', '50', '51', '6', '7', '8', '9'], dtype=object),\n",
       " array([' No', ' Not in universe under 1 year old', ' Yes'], dtype=object),\n",
       " array(['0', '1', '2'], dtype=object),\n",
       " array(['0', '1', '2'], dtype=object),\n",
       " array([' Children or Armed Forces', ' Full-time schedules',\n",
       "        ' Not in labor force', ' PT for econ reasons usually FT',\n",
       "        ' PT for econ reasons usually PT',\n",
       "        ' PT for non-econ reasons usually FT', ' Unemployed full-time',\n",
       "        ' Unemployed part- time'], dtype=object),\n",
       " array(['United States', 'other'], dtype=object),\n",
       " array([' Foreign born- Not a citizen of U S ',\n",
       "        ' Foreign born- U S citizen by naturalization',\n",
       "        ' Native- Born abroad of American Parent(s)',\n",
       "        ' Native- Born in Puerto Rico or U S Outlying',\n",
       "        ' Native- Born in the United States'], dtype=object),\n",
       " array([' ?', ' Abroad', ' Alabama', ' Alaska', ' Arizona', ' Arkansas',\n",
       "        ' California', ' Colorado', ' Connecticut', ' Delaware',\n",
       "        ' District of Columbia', ' Florida', ' Georgia', ' Idaho',\n",
       "        ' Illinois', ' Indiana', ' Iowa', ' Kansas', ' Kentucky',\n",
       "        ' Louisiana', ' Maine', ' Maryland', ' Massachusetts', ' Michigan',\n",
       "        ' Minnesota', ' Mississippi', ' Missouri', ' Montana', ' Nebraska',\n",
       "        ' Nevada', ' New Hampshire', ' New Jersey', ' New Mexico',\n",
       "        ' New York', ' North Carolina', ' North Dakota',\n",
       "        ' Not in universe', ' Ohio', ' Oklahoma', ' Oregon',\n",
       "        ' Pennsylvania', ' South Carolina', ' South Dakota', ' Tennessee',\n",
       "        ' Texas', ' Utah', ' Vermont', ' Virginia', ' West Virginia',\n",
       "        ' Wisconsin', ' Wyoming'], dtype=object),\n",
       " array([' Adm support including clerical', ' Armed Forces',\n",
       "        ' Executive admin and managerial', ' Farming forestry and fishing',\n",
       "        ' Handlers equip cleaners etc ',\n",
       "        ' Machine operators assmblrs & inspctrs', ' Not in universe',\n",
       "        ' Other service', ' Precision production craft & repair',\n",
       "        ' Private household services', ' Professional specialty',\n",
       "        ' Protective services', ' Sales',\n",
       "        ' Technicians and related support',\n",
       "        ' Transportation and material moving'], dtype=object),\n",
       " array([' Job leaver', ' Job loser - on layoff', ' New entrant',\n",
       "        ' Not in universe', ' Other job loser', ' Re-entrant'],\n",
       "       dtype=object),\n",
       " array([' Child 18 or older', ' Child under 18 ever married',\n",
       "        ' Child under 18 never married',\n",
       "        ' Group Quarters- Secondary individual', ' Householder',\n",
       "        ' Nonrelative of householder', ' Other relative of householder',\n",
       "        ' Spouse of householder'], dtype=object)]"
      ]
     },
     "execution_count": 17,
     "metadata": {},
     "output_type": "execute_result"
    }
   ],
   "source": [
    "ohe.categories_"
   ]
  },
  {
   "cell_type": "code",
   "execution_count": 18,
   "id": "00d9be13-729c-4dce-8a49-1ea310a9c2e1",
   "metadata": {},
   "outputs": [],
   "source": [
    "encoded_categories = []\n",
    "for i,v in enumerate(vars_to_encode):\n",
    "    for x in ohe.categories_[i]:\n",
    "        c = f'{v}: {x}'\n",
    "        encoded_categories.append(c)"
   ]
  },
  {
   "cell_type": "code",
   "execution_count": 19,
   "id": "081f739b-aad9-493d-958e-210b12f465ab",
   "metadata": {},
   "outputs": [],
   "source": [
    "X_nom_train_enc_df = pd.DataFrame(X_nom_train_enc, \n",
    "                                  columns=encoded_categories)"
   ]
  },
  {
   "cell_type": "code",
   "execution_count": 20,
   "id": "7b86fcfc-6f92-49c1-a2e7-342113217169",
   "metadata": {},
   "outputs": [],
   "source": [
    "train_df_enc = train_df[con_fields].join(X_nom_train_enc_df)"
   ]
  },
  {
   "cell_type": "code",
   "execution_count": 21,
   "id": "a72a987b-109b-471b-927d-63d59ffb5acc",
   "metadata": {},
   "outputs": [
    {
     "data": {
      "text/plain": [
       "199523"
      ]
     },
     "execution_count": 21,
     "metadata": {},
     "output_type": "execute_result"
    }
   ],
   "source": [
    "len(train_df_enc)"
   ]
  },
  {
   "cell_type": "code",
   "execution_count": 22,
   "id": "73ff23a9-9392-4b6f-80de-21207cd1c781",
   "metadata": {},
   "outputs": [],
   "source": [
    "train_df_enc.to_pickle('preprocessed_X_train_df.pkl')"
   ]
  },
  {
   "cell_type": "markdown",
   "id": "db723b03-8e55-4338-acf1-fa2362825bfb",
   "metadata": {},
   "source": [
    "#### Test"
   ]
  },
  {
   "cell_type": "code",
   "execution_count": 23,
   "id": "49ffcf14-7a73-49bf-a30a-43badc8c86cf",
   "metadata": {},
   "outputs": [],
   "source": [
    "X_nom_test_enc = ohe.transform(test_df[vars_to_encode])"
   ]
  },
  {
   "cell_type": "code",
   "execution_count": 24,
   "id": "ee546025-bc95-48f7-b9d1-163cbd4e8e75",
   "metadata": {},
   "outputs": [],
   "source": [
    "X_nom_test_enc_df = pd.DataFrame(X_nom_test_enc, \n",
    "                                  columns=encoded_categories)"
   ]
  },
  {
   "cell_type": "code",
   "execution_count": 25,
   "id": "721dbb5b-6afb-47f1-9d8f-89b6cd067d7a",
   "metadata": {},
   "outputs": [],
   "source": [
    "test_df_enc = test_df[con_fields].join(X_nom_test_enc_df)"
   ]
  },
  {
   "cell_type": "code",
   "execution_count": 26,
   "id": "d1e96fe4-b48d-411e-87bb-2d2267fb7f51",
   "metadata": {},
   "outputs": [
    {
     "data": {
      "text/plain": [
       "99762"
      ]
     },
     "execution_count": 26,
     "metadata": {},
     "output_type": "execute_result"
    }
   ],
   "source": [
    "len(test_df_enc)"
   ]
  },
  {
   "cell_type": "code",
   "execution_count": 27,
   "id": "90db2ad2-dc6b-447d-be51-1302bc2ea928",
   "metadata": {},
   "outputs": [],
   "source": [
    "test_df_enc.to_pickle('preprocessed_X_test_df.pkl')"
   ]
  },
  {
   "cell_type": "markdown",
   "id": "eb210d52-9aab-4b2d-b9b7-ac202ec59227",
   "metadata": {},
   "source": [
    "## Encode target variable"
   ]
  },
  {
   "cell_type": "code",
   "execution_count": 28,
   "id": "542b83f7-3fe1-4e40-a2e9-9661ae6f6f02",
   "metadata": {},
   "outputs": [],
   "source": [
    "le = preprocessing.LabelEncoder()"
   ]
  },
  {
   "cell_type": "code",
   "execution_count": 29,
   "id": "65a21131-ecc4-46b4-a316-c83ce7e585da",
   "metadata": {},
   "outputs": [
    {
     "data": {
      "text/plain": [
       "0          - 50000.\n",
       "1          - 50000.\n",
       "2          - 50000.\n",
       "3          - 50000.\n",
       "4          - 50000.\n",
       "            ...    \n",
       "199518     - 50000.\n",
       "199519     - 50000.\n",
       "199520     - 50000.\n",
       "199521     - 50000.\n",
       "199522     - 50000.\n",
       "Name: target, Length: 199523, dtype: object"
      ]
     },
     "execution_count": 29,
     "metadata": {},
     "output_type": "execute_result"
    }
   ],
   "source": [
    "train_df['target']"
   ]
  },
  {
   "cell_type": "code",
   "execution_count": 30,
   "id": "049adc25-9679-4911-b514-72a6d2c6407c",
   "metadata": {},
   "outputs": [
    {
     "data": {
      "text/html": [
       "<style>#sk-container-id-2 {color: black;background-color: white;}#sk-container-id-2 pre{padding: 0;}#sk-container-id-2 div.sk-toggleable {background-color: white;}#sk-container-id-2 label.sk-toggleable__label {cursor: pointer;display: block;width: 100%;margin-bottom: 0;padding: 0.3em;box-sizing: border-box;text-align: center;}#sk-container-id-2 label.sk-toggleable__label-arrow:before {content: \"▸\";float: left;margin-right: 0.25em;color: #696969;}#sk-container-id-2 label.sk-toggleable__label-arrow:hover:before {color: black;}#sk-container-id-2 div.sk-estimator:hover label.sk-toggleable__label-arrow:before {color: black;}#sk-container-id-2 div.sk-toggleable__content {max-height: 0;max-width: 0;overflow: hidden;text-align: left;background-color: #f0f8ff;}#sk-container-id-2 div.sk-toggleable__content pre {margin: 0.2em;color: black;border-radius: 0.25em;background-color: #f0f8ff;}#sk-container-id-2 input.sk-toggleable__control:checked~div.sk-toggleable__content {max-height: 200px;max-width: 100%;overflow: auto;}#sk-container-id-2 input.sk-toggleable__control:checked~label.sk-toggleable__label-arrow:before {content: \"▾\";}#sk-container-id-2 div.sk-estimator input.sk-toggleable__control:checked~label.sk-toggleable__label {background-color: #d4ebff;}#sk-container-id-2 div.sk-label input.sk-toggleable__control:checked~label.sk-toggleable__label {background-color: #d4ebff;}#sk-container-id-2 input.sk-hidden--visually {border: 0;clip: rect(1px 1px 1px 1px);clip: rect(1px, 1px, 1px, 1px);height: 1px;margin: -1px;overflow: hidden;padding: 0;position: absolute;width: 1px;}#sk-container-id-2 div.sk-estimator {font-family: monospace;background-color: #f0f8ff;border: 1px dotted black;border-radius: 0.25em;box-sizing: border-box;margin-bottom: 0.5em;}#sk-container-id-2 div.sk-estimator:hover {background-color: #d4ebff;}#sk-container-id-2 div.sk-parallel-item::after {content: \"\";width: 100%;border-bottom: 1px solid gray;flex-grow: 1;}#sk-container-id-2 div.sk-label:hover label.sk-toggleable__label {background-color: #d4ebff;}#sk-container-id-2 div.sk-serial::before {content: \"\";position: absolute;border-left: 1px solid gray;box-sizing: border-box;top: 0;bottom: 0;left: 50%;z-index: 0;}#sk-container-id-2 div.sk-serial {display: flex;flex-direction: column;align-items: center;background-color: white;padding-right: 0.2em;padding-left: 0.2em;position: relative;}#sk-container-id-2 div.sk-item {position: relative;z-index: 1;}#sk-container-id-2 div.sk-parallel {display: flex;align-items: stretch;justify-content: center;background-color: white;position: relative;}#sk-container-id-2 div.sk-item::before, #sk-container-id-2 div.sk-parallel-item::before {content: \"\";position: absolute;border-left: 1px solid gray;box-sizing: border-box;top: 0;bottom: 0;left: 50%;z-index: -1;}#sk-container-id-2 div.sk-parallel-item {display: flex;flex-direction: column;z-index: 1;position: relative;background-color: white;}#sk-container-id-2 div.sk-parallel-item:first-child::after {align-self: flex-end;width: 50%;}#sk-container-id-2 div.sk-parallel-item:last-child::after {align-self: flex-start;width: 50%;}#sk-container-id-2 div.sk-parallel-item:only-child::after {width: 0;}#sk-container-id-2 div.sk-dashed-wrapped {border: 1px dashed gray;margin: 0 0.4em 0.5em 0.4em;box-sizing: border-box;padding-bottom: 0.4em;background-color: white;}#sk-container-id-2 div.sk-label label {font-family: monospace;font-weight: bold;display: inline-block;line-height: 1.2em;}#sk-container-id-2 div.sk-label-container {text-align: center;}#sk-container-id-2 div.sk-container {/* jupyter's `normalize.less` sets `[hidden] { display: none; }` but bootstrap.min.css set `[hidden] { display: none !important; }` so we also need the `!important` here to be able to override the default hidden behavior on the sphinx rendered scikit-learn.org. See: https://github.com/scikit-learn/scikit-learn/issues/21755 */display: inline-block !important;position: relative;}#sk-container-id-2 div.sk-text-repr-fallback {display: none;}</style><div id=\"sk-container-id-2\" class=\"sk-top-container\"><div class=\"sk-text-repr-fallback\"><pre>LabelEncoder()</pre><b>In a Jupyter environment, please rerun this cell to show the HTML representation or trust the notebook. <br />On GitHub, the HTML representation is unable to render, please try loading this page with nbviewer.org.</b></div><div class=\"sk-container\" hidden><div class=\"sk-item\"><div class=\"sk-estimator sk-toggleable\"><input class=\"sk-toggleable__control sk-hidden--visually\" id=\"sk-estimator-id-2\" type=\"checkbox\" checked><label for=\"sk-estimator-id-2\" class=\"sk-toggleable__label sk-toggleable__label-arrow\">LabelEncoder</label><div class=\"sk-toggleable__content\"><pre>LabelEncoder()</pre></div></div></div></div></div>"
      ],
      "text/plain": [
       "LabelEncoder()"
      ]
     },
     "execution_count": 30,
     "metadata": {},
     "output_type": "execute_result"
    }
   ],
   "source": [
    "le.fit(train_df['target'])"
   ]
  },
  {
   "cell_type": "code",
   "execution_count": 31,
   "id": "bb87ccd7-8039-4cc8-bfeb-4225917b5cb1",
   "metadata": {},
   "outputs": [
    {
     "data": {
      "text/plain": [
       "array([' - 50000.', ' 50000+.'], dtype=object)"
      ]
     },
     "execution_count": 31,
     "metadata": {},
     "output_type": "execute_result"
    }
   ],
   "source": [
    "le.classes_"
   ]
  },
  {
   "cell_type": "code",
   "execution_count": 32,
   "id": "f3a452cf-c87a-4037-b3f3-53a0d7a2b059",
   "metadata": {},
   "outputs": [],
   "source": [
    "y_train = le.transform(train_df['target'])"
   ]
  },
  {
   "cell_type": "code",
   "execution_count": 33,
   "id": "8beabc81-2971-43b6-b270-b4bd75c8dc35",
   "metadata": {},
   "outputs": [
    {
     "data": {
      "text/plain": [
       "array([0, 0, 0, ..., 0, 0, 0])"
      ]
     },
     "execution_count": 33,
     "metadata": {},
     "output_type": "execute_result"
    }
   ],
   "source": [
    "y_train"
   ]
  },
  {
   "cell_type": "code",
   "execution_count": 34,
   "id": "76c28f62-0d0c-48af-aed6-c5945fe784d6",
   "metadata": {},
   "outputs": [],
   "source": [
    "with open('y_train.pkl', 'wb') as f:\n",
    "    pickle.dump(y_train, f) "
   ]
  },
  {
   "cell_type": "code",
   "execution_count": 35,
   "id": "06c58b75-5c40-4376-bc53-340388690977",
   "metadata": {},
   "outputs": [],
   "source": [
    "y_test = le.transform(test_df['target'])"
   ]
  },
  {
   "cell_type": "code",
   "execution_count": 36,
   "id": "d20834b8-0929-4f64-b81a-8c2a3adf6fa2",
   "metadata": {},
   "outputs": [],
   "source": [
    "with open('y_test.pkl', 'wb') as f:\n",
    "    pickle.dump(y_test, f) "
   ]
  },
  {
   "cell_type": "code",
   "execution_count": 37,
   "id": "2fc8df65-e4bb-442c-8e1f-ca85b9ec865b",
   "metadata": {},
   "outputs": [],
   "source": [
    "with open('y_label_encoder.pkl', 'wb') as f:\n",
    "    pickle.dump(le, f) "
   ]
  },
  {
   "cell_type": "code",
   "execution_count": null,
   "id": "cee25b5e-27e3-4623-a9b2-9f7232195205",
   "metadata": {},
   "outputs": [],
   "source": []
  },
  {
   "cell_type": "code",
   "execution_count": null,
   "id": "ecbf0be8-7599-44b9-ae2c-0902d2d36d21",
   "metadata": {},
   "outputs": [],
   "source": []
  }
 ],
 "metadata": {
  "kernelspec": {
   "display_name": "Python 3 (ipykernel)",
   "language": "python",
   "name": "python3"
  },
  "language_info": {
   "codemirror_mode": {
    "name": "ipython",
    "version": 3
   },
   "file_extension": ".py",
   "mimetype": "text/x-python",
   "name": "python",
   "nbconvert_exporter": "python",
   "pygments_lexer": "ipython3",
   "version": "3.9.9"
  }
 },
 "nbformat": 4,
 "nbformat_minor": 5
}
